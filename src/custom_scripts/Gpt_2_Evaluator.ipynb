{
  "nbformat": 4,
  "nbformat_minor": 0,
  "metadata": {
    "colab": {
      "name": "Gpt_2_Evaluator.ipynb",
      "version": "0.3.2",
      "provenance": [],
      "collapsed_sections": [
        "DLkn34WpW_YT",
        "9aoBBu9oW4aS",
        "YfejIZ5tWxPk",
        "-U2fdJdjmybT",
        "BpWw1rtCsLt_",
        "fQYMJ8aH0LeQ",
        "YJjUK0kZ5Wtl",
        "0JIs-Y_v6215",
        "PlcCvlixQfMA",
        "ZryaOuneTIu1",
        "Y1XERF8cP3qF",
        "QAaM801PQBzX",
        "8DCzxMDNVZrc",
        "0xOhXaayWGyi",
        "MzV6FeHY8HAN",
        "woXXy7WF8STf",
        "NGQmjVwr-V4U",
        "SrxWC76l-4zE",
        "hsOrfLUJ_ns0",
        "s9fsN59EAXOF",
        "9qJHUtVxA6yq",
        "sYFW8MOVBJGW",
        "ikP3cxASBSN2",
        "KUNdY-HIBkMs",
        "JCNkN5HICEjG",
        "kf55WhFaCUBb",
        "gFMLtCq1Cfps",
        "qI_X6foOeyq7",
        "q9RdcOYXZord",
        "pFlLL386aIP1",
        "O6cn3lRLZ5T3",
        "vNWLG_2Tdai4",
        "DTshIIXjeUga",
        "OZDKyuAbgnsT",
        "DbaNh2iFg6K3",
        "K200n6Q46SPP",
        "ZqVIeHv66X1u",
        "BWfQgPYB7gY2",
        "yQFHgmOH71D5"
      ]
    },
    "kernelspec": {
      "name": "python3",
      "display_name": "Python 3"
    },
    "accelerator": "GPU"
  },
  "cells": [
    {
      "metadata": {
        "id": "DLkn34WpW_YT",
        "colab_type": "text"
      },
      "cell_type": "markdown",
      "source": [
        "### Connect to Drive"
      ]
    },
    {
      "metadata": {
        "id": "SbXPcNBWBPcH",
        "colab_type": "code",
        "outputId": "f81272ee-d2e0-4113-a922-30322128b68c",
        "colab": {
          "base_uri": "https://localhost:8080/",
          "height": 34
        }
      },
      "cell_type": "code",
      "source": [
        "from google.colab import drive\n",
        "drive.mount('/content/drive', force_remount=True)"
      ],
      "execution_count": 1,
      "outputs": [
        {
          "output_type": "stream",
          "text": [
            "Mounted at /content/drive\n"
          ],
          "name": "stdout"
        }
      ]
    },
    {
      "metadata": {
        "id": "4PwTw7aOA8rr",
        "colab_type": "code",
        "outputId": "c81a3dd0-2f50-4017-ad1b-a3b0a7d843af",
        "colab": {
          "base_uri": "https://localhost:8080/",
          "height": 34
        }
      },
      "cell_type": "code",
      "source": [
        "%cd \"/content/drive/My Drive/StoryCompletion/src\""
      ],
      "execution_count": 2,
      "outputs": [
        {
          "output_type": "stream",
          "text": [
            "/content/drive/My Drive/StoryCompletion/src\n"
          ],
          "name": "stdout"
        }
      ]
    },
    {
      "metadata": {
        "id": "9aoBBu9oW4aS",
        "colab_type": "text"
      },
      "cell_type": "markdown",
      "source": [
        "### Read Model and Generate Text"
      ]
    },
    {
      "metadata": {
        "id": "ePBKJi8yZJUO",
        "colab_type": "code",
        "colab": {}
      },
      "cell_type": "code",
      "source": [
        "import json\n",
        "import os\n",
        "import numpy as np\n",
        "import tensorflow as tf\n",
        "\n",
        "import model, sample, encoder"
      ],
      "execution_count": 0,
      "outputs": []
    },
    {
      "metadata": {
        "id": "m5jK1McMCtpv",
        "colab_type": "code",
        "colab": {}
      },
      "cell_type": "code",
      "source": [
        "def get_output(\n",
        "    model_name='117M',\n",
        "    seed=None,\n",
        "    nsamples=1,\n",
        "    batch_size=1,\n",
        "    length=None,\n",
        "    temperature=1,\n",
        "    top_k=0,\n",
        "    input_text=\"\"\n",
        "):\n",
        "    \"\"\"\n",
        "    Interactively run the model\n",
        "    :model_name=117M : String, which model to use\n",
        "    :seed=None : Integer seed for random number generators, fix seed to reproduce\n",
        "     results\n",
        "    :nsamples=1 : Number of samples to return total\n",
        "    :batch_size=1 : Number of batches (only affects speed/memory).  Must divide nsamples.\n",
        "    :length=None : Number of tokens in generated text, if None (default), is\n",
        "     determined by model hyperparameters\n",
        "    :temperature=1 : Float value controlling randomness in boltzmann\n",
        "     distribution. Lower temperature results in less random completions. As the\n",
        "     temperature approaches zero, the model will become deterministic and\n",
        "     repetitive. Higher temperature results in more random completions.\n",
        "    :top_k=0 : Integer value controlling diversity. 1 means only 1 word is\n",
        "     considered for each step (token), resulting in deterministic completions,\n",
        "     while 40 means 40 words are considered at each step. 0 (default) is a\n",
        "     special setting meaning no restrictions. 40 generally is a good value.\n",
        "    \"\"\"\n",
        "    if batch_size is None:\n",
        "        batch_size = 1\n",
        "    assert nsamples % batch_size == 0\n",
        "    \n",
        "    if len(input_text) == 0:\n",
        "        raise ValueError(\"Please input a valid sequence!\")\n",
        "\n",
        "    enc = encoder.get_encoder(model_name)\n",
        "    hparams = model.default_hparams()\n",
        "    with open(os.path.join('models', model_name, 'hparams.json')) as f:\n",
        "        hparams.override_from_dict(json.load(f))\n",
        "\n",
        "    if length is None:\n",
        "        length = hparams.n_ctx // 2\n",
        "    elif length > hparams.n_ctx:\n",
        "        raise ValueError(\"Can't get samples longer than window size: %s\" % hparams.n_ctx)\n",
        "\n",
        "    with tf.Session(graph=tf.Graph()) as sess:\n",
        "        context = tf.placeholder(tf.int32, [batch_size, None])\n",
        "        np.random.seed(seed)\n",
        "        tf.set_random_seed(seed)\n",
        "        output = sample.sample_sequence(\n",
        "            hparams=hparams, length=length,\n",
        "            context=context,\n",
        "            batch_size=batch_size,\n",
        "            temperature=temperature, top_k=top_k\n",
        "        )\n",
        "\n",
        "        saver = tf.train.Saver()\n",
        "        ckpt = tf.train.latest_checkpoint(os.path.join('models', model_name))\n",
        "        saver.restore(sess, ckpt)\n",
        "\n",
        "        while True:\n",
        "            context_tokens = enc.encode(input_text)\n",
        "            generated = 0\n",
        "            for _ in range(nsamples // batch_size):\n",
        "                out = sess.run(output, feed_dict={\n",
        "                    context: [context_tokens for _ in range(batch_size)]\n",
        "                })[:, len(context_tokens):]\n",
        "                for i in range(batch_size):\n",
        "                    generated += 1\n",
        "                    text = enc.decode(out[i])\n",
        "#                     print(\"=\" * 40 + \" SAMPLE \" + str(generated) + \" \" + \"=\" * 40)\n",
        "#                     print(text)\n",
        "                    return text\n",
        "#             print(\"=\" * 80)"
      ],
      "execution_count": 0,
      "outputs": []
    },
    {
      "metadata": {
        "id": "IxJjHzO2D4PN",
        "colab_type": "code",
        "outputId": "a8fe73d1-2435-463d-b391-29d194af9818",
        "colab": {
          "base_uri": "https://localhost:8080/",
          "height": 272
        }
      },
      "cell_type": "code",
      "source": [
        "get_output(model_name=\"GOT\", input_text=\"Arya was walking towards the woods\")"
      ],
      "execution_count": 0,
      "outputs": [
        {
          "output_type": "stream",
          "text": [
            "WARNING:tensorflow:From /usr/local/lib/python3.6/dist-packages/tensorflow/python/framework/op_def_library.py:263: colocate_with (from tensorflow.python.framework.ops) is deprecated and will be removed in a future version.\n",
            "Instructions for updating:\n",
            "Colocations handled automatically by placer.\n",
            "WARNING:tensorflow:From /content/drive/My Drive/StoryCompletion/src/sample.py:51: to_float (from tensorflow.python.ops.math_ops) is deprecated and will be removed in a future version.\n",
            "Instructions for updating:\n",
            "Use tf.cast instead.\n",
            "WARNING:tensorflow:From /content/drive/My Drive/StoryCompletion/src/sample.py:53: multinomial (from tensorflow.python.ops.random_ops) is deprecated and will be removed in a future version.\n",
            "Instructions for updating:\n",
            "Use tf.random.categorical instead.\n",
            "WARNING:tensorflow:From /usr/local/lib/python3.6/dist-packages/tensorflow/python/training/saver.py:1266: checkpoint_exists (from tensorflow.python.training.checkpoint_management) is deprecated and will be removed in a future version.\n",
            "Instructions for updating:\n",
            "Use standard file APIs to check for files with this prefix.\n",
            "INFO:tensorflow:Restoring parameters from models/GOT/model-1092\n"
          ],
          "name": "stdout"
        },
        {
          "output_type": "execute_result",
          "data": {
            "text/plain": [
              "' near the gate then turned and turned and turned in the trees, pushing her foot away from the sword.\\n\\nI should have peered at him a third time. She has enough balls to make the stands but I never knew. He had a lord’s will—she had full approval from his mother, but Arya had only half so much his . . .\\n\\nWhen she saw his sword, how did she lift her gaze? She landed in a fistful of trees, startled to see the smell of hoarfrost dying at once and her fingers discolored with soft. This is real bread, Arys frowned at her. The bench was there to keep her milling, the youngest of his brothers catching her chuckling. Thankfully, they tend her cowling in this lumbering field.\\n\\nA dead branch yawned before her. Arya leaned out and pressed it in with her finger as if it were wings. Swiftly she rose, face first, carried it to the wood, then slid the blade down inside and walked back to the stream. Behind she heard a faint beeping on the bridge. Their feet were tangled in the trunk when they first turned, and suggested something. Then she saw the bank at the top, and followed it out around a stream. I should have crouched closer. Hear? Faint, pale, indistinct. Then there was a whiff of blood.\\n\\nThen there was a derisive answer. She knelt against the muddle, shaking. I was up in the trees for a moment, but who was to topple any taller than her? Something was wrong with me. I was wearing woolen cloaks, she knew at once. Behind her on the roof of the cabin, a dark captain emerged with a galley tied up at anchor. She strode to him, past two terrified women. The second, cleaner, was carrying a fur cloak.\\n\\nInside he thrust a spear through the gap, and pursed his lips. “I could do that,” she said of her command. \"Keep me from hurt.”\\n\\n“Other ships in theirs? Whores come aboard, some whores, whores, whores,” said Clegane. “Has Gregor Clegane mailed it off as well?”\\n\\nYoren snorted scowling. “Any sounds your bow lets out after you let it down, child?” Maybe it was the noise'"
            ]
          },
          "metadata": {
            "tags": []
          },
          "execution_count": 5
        }
      ]
    },
    {
      "metadata": {
        "id": "X3wofOrDEQPW",
        "colab_type": "code",
        "outputId": "b089b7df-0422-4b14-f3ed-68b874699c5e",
        "colab": {
          "base_uri": "https://localhost:8080/",
          "height": 34
        }
      },
      "cell_type": "code",
      "source": [
        "text = get_output(model_name=\"GOT\", input_text=\"Arya was walking towards the woods.\", length=50)"
      ],
      "execution_count": 0,
      "outputs": [
        {
          "output_type": "stream",
          "text": [
            "INFO:tensorflow:Restoring parameters from models/GOT/model-1092\n"
          ],
          "name": "stdout"
        }
      ]
    },
    {
      "metadata": {
        "id": "v0etSnKbFDPz",
        "colab_type": "code",
        "outputId": "a5c61047-ff3a-4437-bdd5-b5d5a57cea76",
        "colab": {
          "base_uri": "https://localhost:8080/",
          "height": 54
        }
      },
      "cell_type": "code",
      "source": [
        "text"
      ],
      "execution_count": 0,
      "outputs": [
        {
          "output_type": "execute_result",
          "data": {
            "text/plain": [
              "' When she looked, she saw Marsh near her, behind some wood. Benjen told her about them. They were:\\n\\nOld Nan told them his father was Nurse, his uncle Jasper. His son Wicar said he was Ser Nurse.'"
            ]
          },
          "metadata": {
            "tags": []
          },
          "execution_count": 50
        }
      ]
    },
    {
      "metadata": {
        "id": "YfejIZ5tWxPk",
        "colab_type": "text"
      },
      "cell_type": "markdown",
      "source": [
        "### Load validation data for GOT"
      ]
    },
    {
      "metadata": {
        "id": "eY97L2AAW0CC",
        "colab_type": "code",
        "colab": {}
      },
      "cell_type": "code",
      "source": [
        "validation_sample = open(\"evaluation/got_validation.txt\").read()"
      ],
      "execution_count": 0,
      "outputs": []
    },
    {
      "metadata": {
        "id": "qQ1gKvIRZdfG",
        "colab_type": "code",
        "colab": {}
      },
      "cell_type": "code",
      "source": [
        "validation_sample = validation_sample.split(\"\\n\")"
      ],
      "execution_count": 0,
      "outputs": []
    },
    {
      "metadata": {
        "id": "Nt8gM_LXZmKA",
        "colab_type": "code",
        "colab": {}
      },
      "cell_type": "code",
      "source": [
        "import pandas as pd\n",
        "import random"
      ],
      "execution_count": 0,
      "outputs": []
    },
    {
      "metadata": {
        "id": "Hpmemz0qZ6DD",
        "colab_type": "code",
        "colab": {}
      },
      "cell_type": "code",
      "source": [
        "got_df = pd.DataFrame(columns=[\"input\", \"continuation\", \"label\"])\n",
        "\n",
        "random_indices = []\n",
        "df_idx = 0\n",
        "\n",
        "while True:\n",
        "    if got_df.shape[0] > 200:\n",
        "        break\n",
        "    index = random.randint(0, len(validation_sample) - 2)\n",
        "    if index in random_indices:\n",
        "        continue\n",
        "    random_indices.append(index)\n",
        "    row1 = {\n",
        "        \"input\": validation_sample[index],\n",
        "        \"continuation\": validation_sample[index + 1],\n",
        "        \"label\": 0\n",
        "    }\n",
        "    got_df.loc[df_idx] = row1\n",
        "    df_idx += 1\n",
        "    row2 = {\n",
        "        \"input\": validation_sample[index],\n",
        "        \"continuation\": get_output(model_name=\"GOT\", \n",
        "                                input_text = validation_sample[index],\n",
        "                                length = 50),\n",
        "        \"label\": 1\n",
        "    }\n",
        "    got_df.loc[df_idx] = row2\n",
        "    df_idx += 1"
      ],
      "execution_count": 0,
      "outputs": []
    },
    {
      "metadata": {
        "id": "DX_HZsf6bXpt",
        "colab_type": "code",
        "colab": {}
      },
      "cell_type": "code",
      "source": [
        "got_df[\"continuation\"] = got_df[\"continuation\"].str.replace(\"\\n\", \"\")"
      ],
      "execution_count": 0,
      "outputs": []
    },
    {
      "metadata": {
        "id": "0yT8vPh9jkBM",
        "colab_type": "code",
        "colab": {}
      },
      "cell_type": "code",
      "source": [
        "got_df.to_csv(\"got_validation.csv\", index=False)"
      ],
      "execution_count": 0,
      "outputs": []
    },
    {
      "metadata": {
        "id": "-U2fdJdjmybT",
        "colab_type": "text"
      },
      "cell_type": "markdown",
      "source": [
        "### LR-GOT"
      ]
    },
    {
      "metadata": {
        "id": "6TgaLL4cmxkX",
        "colab_type": "code",
        "colab": {}
      },
      "cell_type": "code",
      "source": [
        "import re\n",
        "from nltk.corpus import stopwords\n",
        "from nltk.stem import WordNetLemmatizer\n",
        "from sklearn.model_selection import train_test_split\n",
        "from sklearn.feature_extraction.text import TfidfVectorizer \n",
        "from sklearn.linear_model import LogisticRegression\n",
        "from sklearn.metrics import accuracy_score, f1_score"
      ],
      "execution_count": 0,
      "outputs": []
    },
    {
      "metadata": {
        "id": "XMzC_edvn2at",
        "colab_type": "code",
        "outputId": "e07e93ed-dc74-41fc-dba0-d4d8730865f4",
        "colab": {
          "base_uri": "https://localhost:8080/",
          "height": 134
        }
      },
      "cell_type": "code",
      "source": [
        "import nltk\n",
        "nltk.download('punkt')\n",
        "nltk.download('stopwords')\n",
        "nltk.download('wordnet')"
      ],
      "execution_count": 41,
      "outputs": [
        {
          "output_type": "stream",
          "text": [
            "[nltk_data] Downloading package punkt to /root/nltk_data...\n",
            "[nltk_data]   Package punkt is already up-to-date!\n",
            "[nltk_data] Downloading package stopwords to /root/nltk_data...\n",
            "[nltk_data]   Package stopwords is already up-to-date!\n",
            "[nltk_data] Downloading package wordnet to /root/nltk_data...\n",
            "[nltk_data]   Package wordnet is already up-to-date!\n"
          ],
          "name": "stdout"
        },
        {
          "output_type": "execute_result",
          "data": {
            "text/plain": [
              "True"
            ]
          },
          "metadata": {
            "tags": []
          },
          "execution_count": 41
        }
      ]
    },
    {
      "metadata": {
        "id": "xtNNdn9Im79s",
        "colab_type": "code",
        "colab": {}
      },
      "cell_type": "code",
      "source": [
        "tfidfconverter = TfidfVectorizer(max_features=1500, min_df=5, max_df=0.7, stop_words=stopwords.words('english'))  "
      ],
      "execution_count": 0,
      "outputs": []
    },
    {
      "metadata": {
        "id": "x2OFnEm2nAVY",
        "colab_type": "code",
        "colab": {}
      },
      "cell_type": "code",
      "source": [
        "def clean_doc(document, stemmer):\n",
        "    # Remove all the special characters\n",
        "    document = re.sub(r'\\W', ' ', str(document))\n",
        "\n",
        "   # Substituting multiple spaces with single space\n",
        "    document = re.sub(r'\\s+', ' ', document, flags=re.I)\n",
        "\n",
        "    # Converting to Lowercase\n",
        "    document = document.lower()\n",
        "\n",
        "    # Lemmatization\n",
        "    document = document.split()\n",
        "\n",
        "    document = [stemmer.lemmatize(word) for word in document]\n",
        "    document = ' '.join(document)\n",
        "\n",
        "    return document"
      ],
      "execution_count": 0,
      "outputs": []
    },
    {
      "metadata": {
        "id": "YAv0JA76ooYJ",
        "colab_type": "code",
        "colab": {}
      },
      "cell_type": "code",
      "source": [
        "stemmer = WordNetLemmatizer()\n",
        "got_df['clean_output'] = got_df['continuation'].apply(lambda doc: clean_doc(doc, stemmer))"
      ],
      "execution_count": 0,
      "outputs": []
    },
    {
      "metadata": {
        "id": "nwc-c8vspBkz",
        "colab_type": "code",
        "outputId": "cea0a845-cca4-4993-b13e-a28d882a44e0",
        "colab": {
          "base_uri": "https://localhost:8080/",
          "height": 195
        }
      },
      "cell_type": "code",
      "source": [
        "got_df.head()"
      ],
      "execution_count": 0,
      "outputs": [
        {
          "output_type": "execute_result",
          "data": {
            "text/html": [
              "<div>\n",
              "<style scoped>\n",
              "    .dataframe tbody tr th:only-of-type {\n",
              "        vertical-align: middle;\n",
              "    }\n",
              "\n",
              "    .dataframe tbody tr th {\n",
              "        vertical-align: top;\n",
              "    }\n",
              "\n",
              "    .dataframe thead th {\n",
              "        text-align: right;\n",
              "    }\n",
              "</style>\n",
              "<table border=\"1\" class=\"dataframe\">\n",
              "  <thead>\n",
              "    <tr style=\"text-align: right;\">\n",
              "      <th></th>\n",
              "      <th>input</th>\n",
              "      <th>continuation</th>\n",
              "      <th>label</th>\n",
              "      <th>clean_output</th>\n",
              "    </tr>\n",
              "  </thead>\n",
              "  <tbody>\n",
              "    <tr>\n",
              "      <th>0</th>\n",
              "      <td>From a sword through his belly if you have you...</td>\n",
              "      <td>Stannis pressed his lips together.  \"Serve me ...</td>\n",
              "      <td>0</td>\n",
              "      <td>stannis pressed his lip together serve me well...</td>\n",
              "    </tr>\n",
              "    <tr>\n",
              "      <th>1</th>\n",
              "      <td>From a sword through his belly if you have you...</td>\n",
              "      <td>Neither were eating well enough unless he joi...</td>\n",
              "      <td>1</td>\n",
              "      <td>neither were eating well enough unless he join...</td>\n",
              "    </tr>\n",
              "    <tr>\n",
              "      <th>2</th>\n",
              "      <td>\" — you will avenge my death, and seat my daug...</td>\n",
              "      <td>Ser Justin put one hand on his sword hilt.  \"O...</td>\n",
              "      <td>0</td>\n",
              "      <td>ser justin put one hand on his sword hilt on m...</td>\n",
              "    </tr>\n",
              "    <tr>\n",
              "      <th>3</th>\n",
              "      <td>\" — you will avenge my death, and seat my daug...</td>\n",
              "      <td>“Your lady mother has squandered the last thre...</td>\n",
              "      <td>1</td>\n",
              "      <td>your lady mother ha squandered the last three ...</td>\n",
              "    </tr>\n",
              "    <tr>\n",
              "      <th>4</th>\n",
              "      <td>\"They would.\"</td>\n",
              "      <td>\"We might question them more sharply... \"</td>\n",
              "      <td>0</td>\n",
              "      <td>we might question them more sharply</td>\n",
              "    </tr>\n",
              "  </tbody>\n",
              "</table>\n",
              "</div>"
            ],
            "text/plain": [
              "                                               input  \\\n",
              "0  From a sword through his belly if you have you...   \n",
              "1  From a sword through his belly if you have you...   \n",
              "2  \" — you will avenge my death, and seat my daug...   \n",
              "3  \" — you will avenge my death, and seat my daug...   \n",
              "4                                      \"They would.\"   \n",
              "\n",
              "                                        continuation label  \\\n",
              "0  Stannis pressed his lips together.  \"Serve me ...     0   \n",
              "1   Neither were eating well enough unless he joi...     1   \n",
              "2  Ser Justin put one hand on his sword hilt.  \"O...     0   \n",
              "3  “Your lady mother has squandered the last thre...     1   \n",
              "4          \"We might question them more sharply... \"     0   \n",
              "\n",
              "                                        clean_output  \n",
              "0  stannis pressed his lip together serve me well...  \n",
              "1  neither were eating well enough unless he join...  \n",
              "2  ser justin put one hand on his sword hilt on m...  \n",
              "3  your lady mother ha squandered the last three ...  \n",
              "4                we might question them more sharply  "
            ]
          },
          "metadata": {
            "tags": []
          },
          "execution_count": 116
        }
      ]
    },
    {
      "metadata": {
        "id": "yYOrl5PcpzKW",
        "colab_type": "code",
        "colab": {}
      },
      "cell_type": "code",
      "source": [
        "X = tfidfconverter.fit_transform(list(got_df[\"clean_output\"])).toarray()"
      ],
      "execution_count": 0,
      "outputs": []
    },
    {
      "metadata": {
        "id": "5cwmi_Pmp6Fe",
        "colab_type": "code",
        "colab": {}
      },
      "cell_type": "code",
      "source": [
        "X_train, X_test, y_train, y_test = train_test_split(X, got_df['label'].astype(int))"
      ],
      "execution_count": 0,
      "outputs": []
    },
    {
      "metadata": {
        "id": "y4VRzyGfqMeL",
        "colab_type": "code",
        "outputId": "cf130f4a-beff-4811-e7d0-118c185f2a1c",
        "colab": {
          "base_uri": "https://localhost:8080/",
          "height": 138
        }
      },
      "cell_type": "code",
      "source": [
        "lr_clf = LogisticRegression()\n",
        "lr_clf.fit(X_train, y_train)\n"
      ],
      "execution_count": 0,
      "outputs": [
        {
          "output_type": "stream",
          "text": [
            "/usr/local/lib/python3.6/dist-packages/sklearn/linear_model/logistic.py:433: FutureWarning: Default solver will be changed to 'lbfgs' in 0.22. Specify a solver to silence this warning.\n",
            "  FutureWarning)\n"
          ],
          "name": "stderr"
        },
        {
          "output_type": "execute_result",
          "data": {
            "text/plain": [
              "LogisticRegression(C=1.0, class_weight=None, dual=False, fit_intercept=True,\n",
              "          intercept_scaling=1, max_iter=100, multi_class='warn',\n",
              "          n_jobs=None, penalty='l2', random_state=None, solver='warn',\n",
              "          tol=0.0001, verbose=0, warm_start=False)"
            ]
          },
          "metadata": {
            "tags": []
          },
          "execution_count": 123
        }
      ]
    },
    {
      "metadata": {
        "id": "VJ4_A8T_quKX",
        "colab_type": "code",
        "colab": {}
      },
      "cell_type": "code",
      "source": [
        "predictions = lr_clf.predict(X_test)"
      ],
      "execution_count": 0,
      "outputs": []
    },
    {
      "metadata": {
        "id": "lR4Iiq2VrV7m",
        "colab_type": "code",
        "outputId": "a3053c93-3b7b-4278-a8cf-388a9cce337c",
        "colab": {
          "base_uri": "https://localhost:8080/",
          "height": 50
        }
      },
      "cell_type": "code",
      "source": [
        "print(\"Accuracy\", accuracy_score(y_test, predictions))\n",
        "print(\"F1\", f1_score(y_test, predictions))"
      ],
      "execution_count": 0,
      "outputs": [
        {
          "output_type": "stream",
          "text": [
            "Accuracy 0.49019607843137253\n",
            "F1 0.5517241379310346\n"
          ],
          "name": "stdout"
        }
      ]
    },
    {
      "metadata": {
        "id": "BpWw1rtCsLt_",
        "colab_type": "text"
      },
      "cell_type": "markdown",
      "source": [
        "### LR- ROC Stories"
      ]
    },
    {
      "metadata": {
        "id": "oLM2baUisKBH",
        "colab_type": "code",
        "colab": {}
      },
      "cell_type": "code",
      "source": [
        "roc = open(\"evaluation/ShortStoriesTest.txt\").read()"
      ],
      "execution_count": 0,
      "outputs": []
    },
    {
      "metadata": {
        "id": "U5pBn6SusXVl",
        "colab_type": "code",
        "colab": {}
      },
      "cell_type": "code",
      "source": [
        "roc = roc.split(\"\\n\")"
      ],
      "execution_count": 0,
      "outputs": []
    },
    {
      "metadata": {
        "id": "M_ZeGdyssdKU",
        "colab_type": "code",
        "colab": {}
      },
      "cell_type": "code",
      "source": [
        "roc_df = pd.DataFrame(columns=[\"input\", \"continuation\", \"label\"])\n",
        "\n",
        "random_indices = []\n",
        "df_idx = 0\n",
        "\n",
        "while True:\n",
        "    if roc_df.shape[0] > 200:\n",
        "        break\n",
        "    index = random.randint(0, len(roc) - 2)\n",
        "    if index in random_indices:\n",
        "        continue\n",
        "    random_indices.append(index)\n",
        "    input_text = roc[index].split('. ')[0] + \".\"\n",
        "    output_text = '. '.join(roc[index].split('. ')[1:])\n",
        "    row1 = {\n",
        "        \"input\": input_text,\n",
        "        \"continuation\": output_text,\n",
        "        \"label\": 0\n",
        "    }\n",
        "    roc_df.loc[df_idx] = row1\n",
        "    df_idx += 1\n",
        "    row2 = {\n",
        "        \"input\": input_text,\n",
        "        \"continuation\": get_output(model_name=\"ROC\", \n",
        "                                input_text = input_text,\n",
        "                                length = 50).split('\\n')[0],\n",
        "        \"label\": 1\n",
        "    }\n",
        "    roc_df.loc[df_idx] = row2\n",
        "    df_idx += 1"
      ],
      "execution_count": 0,
      "outputs": []
    },
    {
      "metadata": {
        "id": "9Dq2n_c6uiOW",
        "colab_type": "code",
        "colab": {}
      },
      "cell_type": "code",
      "source": [
        "roc_df.to_csv(\"evaluation/roc_test.csv\", index=False)"
      ],
      "execution_count": 0,
      "outputs": []
    },
    {
      "metadata": {
        "id": "E98lqNszx0HH",
        "colab_type": "code",
        "colab": {}
      },
      "cell_type": "code",
      "source": [
        "roc_df['clean_output'] = roc_df['continuation'].apply(lambda doc: clean_doc(doc, stemmer))"
      ],
      "execution_count": 0,
      "outputs": []
    },
    {
      "metadata": {
        "id": "sa7vEcG2x9TR",
        "colab_type": "code",
        "colab": {}
      },
      "cell_type": "code",
      "source": [
        "X = tfidfconverter.fit_transform(list(roc_df[\"clean_output\"])).toarray()"
      ],
      "execution_count": 0,
      "outputs": []
    },
    {
      "metadata": {
        "id": "eVgLUe4iyiif",
        "colab_type": "code",
        "colab": {}
      },
      "cell_type": "code",
      "source": [
        "X_train, X_test, y_train, y_test = train_test_split(X, roc_df['label'].astype(int))"
      ],
      "execution_count": 0,
      "outputs": []
    },
    {
      "metadata": {
        "id": "EVbzLKRDym7L",
        "colab_type": "code",
        "outputId": "c9220b02-de23-4cbd-df78-fd22ad86a9f6",
        "colab": {
          "base_uri": "https://localhost:8080/",
          "height": 138
        }
      },
      "cell_type": "code",
      "source": [
        "lr_clf = LogisticRegression()\n",
        "lr_clf.fit(X_train, y_train)"
      ],
      "execution_count": 0,
      "outputs": [
        {
          "output_type": "stream",
          "text": [
            "/usr/local/lib/python3.6/dist-packages/sklearn/linear_model/logistic.py:433: FutureWarning: Default solver will be changed to 'lbfgs' in 0.22. Specify a solver to silence this warning.\n",
            "  FutureWarning)\n"
          ],
          "name": "stderr"
        },
        {
          "output_type": "execute_result",
          "data": {
            "text/plain": [
              "LogisticRegression(C=1.0, class_weight=None, dual=False, fit_intercept=True,\n",
              "          intercept_scaling=1, max_iter=100, multi_class='warn',\n",
              "          n_jobs=None, penalty='l2', random_state=None, solver='warn',\n",
              "          tol=0.0001, verbose=0, warm_start=False)"
            ]
          },
          "metadata": {
            "tags": []
          },
          "execution_count": 158
        }
      ]
    },
    {
      "metadata": {
        "id": "Vem8FRkqyqbQ",
        "colab_type": "code",
        "colab": {}
      },
      "cell_type": "code",
      "source": [
        "predictions = lr_clf.predict(X_test)"
      ],
      "execution_count": 0,
      "outputs": []
    },
    {
      "metadata": {
        "id": "DWTWuyuHytbp",
        "colab_type": "code",
        "outputId": "7ef5bf2b-9a6b-4e54-cc2e-d62761ae343a",
        "colab": {
          "base_uri": "https://localhost:8080/",
          "height": 50
        }
      },
      "cell_type": "code",
      "source": [
        "print(\"Accuracy\", accuracy_score(y_test, predictions))\n",
        "print(\"F1\", f1_score(y_test, predictions))"
      ],
      "execution_count": 0,
      "outputs": [
        {
          "output_type": "stream",
          "text": [
            "Accuracy 0.49019607843137253\n",
            "F1 0.4999999999999999\n"
          ],
          "name": "stdout"
        }
      ]
    },
    {
      "metadata": {
        "id": "fQYMJ8aH0LeQ",
        "colab_type": "text"
      },
      "cell_type": "markdown",
      "source": [
        "### LR - Essays"
      ]
    },
    {
      "metadata": {
        "id": "kPh8fPAWywxT",
        "colab_type": "code",
        "colab": {}
      },
      "cell_type": "code",
      "source": [
        "essays = pd.read_csv(\"evaluation/EssaysTest.tsv\", sep=\"\\t\", encoding=\"latin1\")"
      ],
      "execution_count": 0,
      "outputs": []
    },
    {
      "metadata": {
        "id": "5uXAfbR8wq2n",
        "colab_type": "code",
        "colab": {}
      },
      "cell_type": "code",
      "source": [
        "essays = essays[(~essays.essay.str.contains(\"Dear\")) & (~essays.essay.str.contains(\"@\"))].copy()"
      ],
      "execution_count": 0,
      "outputs": []
    },
    {
      "metadata": {
        "id": "_nMHmo00xDtb",
        "colab_type": "code",
        "colab": {}
      },
      "cell_type": "code",
      "source": [
        "essays[\"essay\"] = essays[\"essay\"].astype(str)\n",
        "essays[\"sentences\"] = essays[\"essay\"].str.split(\"\\. \")"
      ],
      "execution_count": 0,
      "outputs": []
    },
    {
      "metadata": {
        "id": "mwvM_yJQxiWE",
        "colab_type": "code",
        "outputId": "49ae1b39-e40f-4474-bde6-448168dabb7f",
        "colab": {
          "base_uri": "https://localhost:8080/",
          "height": 322
        }
      },
      "cell_type": "code",
      "source": [
        "essays[\"sentences\"].iloc[0]"
      ],
      "execution_count": 0,
      "outputs": [
        {
          "output_type": "execute_result",
          "data": {
            "text/plain": [
              "['My opinion of the effect computers have on people is that people arent safe',\n",
              " 'A lot of teens and kids on on their computers and go to yahoo + or my space to talk to their friends',\n",
              " 'but sometimes teen talk to people they don\\x92t know that can hurt them and tell them something that makes them uncomfortible',\n",
              " 'I like computers really I do and I know you like it too but sometimes you have to be careful when you surfing the web ',\n",
              " 'Another effect computers have on people is that people arnt healthy',\n",
              " 'Kids and teens even abults dont go outside to exercise or get fresh air because they are too busy at their house playing on their computer',\n",
              " 'That why alot of kids and adults gain alot of weigh because they dont stop messing with their computer',\n",
              " 'you would not want to get fat because your not takeing care of your body because you are playing on the computer',\n",
              " 'My third reason computer have effect on people is that they arent learning',\n",
              " 'Kids are just play mini games on their computes and arent leaning anything',\n",
              " 'They can have homworke and forget how to do it because they was too busy play games on their computer',\n",
              " 'They could go to school and then a teacher can be teaching them somthing like math',\n",
              " 'The lesson the kids could be thinking about the game they play on their computer',\n",
              " 'Like how to pass a level in the games or how to score points',\n",
              " 'and after the lesson is over they wouldnt learning anything because they wasnt paying attection you wouldnt want your kids spent too much time on the computer and not know anything',\n",
              " 'My fourth effect computers have effect on people is that people get into trouble by gettlog music off the internet and not paying back and they can go jail',\n",
              " 'You woulnt want to go to jail.']"
            ]
          },
          "metadata": {
            "tags": []
          },
          "execution_count": 33
        }
      ]
    },
    {
      "metadata": {
        "id": "WkNrmHPYyNFi",
        "colab_type": "code",
        "colab": {}
      },
      "cell_type": "code",
      "source": [
        "essay_sentences = []\n",
        "for essay in essays[\"sentences\"]:\n",
        "    essay_sentences.extend(essay)"
      ],
      "execution_count": 0,
      "outputs": []
    },
    {
      "metadata": {
        "id": "Bx7fP-0my1R2",
        "colab_type": "code",
        "outputId": "31749408-98fd-4cd5-fc5f-68c036bbf48e",
        "colab": {
          "base_uri": "https://localhost:8080/",
          "height": 34
        }
      },
      "cell_type": "code",
      "source": [
        "len(essay_sentences)"
      ],
      "execution_count": 0,
      "outputs": [
        {
          "output_type": "execute_result",
          "data": {
            "text/plain": [
              "9668"
            ]
          },
          "metadata": {
            "tags": []
          },
          "execution_count": 39
        }
      ]
    },
    {
      "metadata": {
        "id": "KPsxaMwjzBgm",
        "colab_type": "code",
        "colab": {}
      },
      "cell_type": "code",
      "source": [
        "essay_sentences_clean = [essay + \".\" for essay in essay_sentences if len(essay) > 0 and essay[-1] != \".\"]"
      ],
      "execution_count": 0,
      "outputs": []
    },
    {
      "metadata": {
        "id": "w0VCGRjXzNcH",
        "colab_type": "code",
        "outputId": "62742434-8bcf-44bb-8ebb-0c41c634ebac",
        "colab": {
          "base_uri": "https://localhost:8080/",
          "height": 101
        }
      },
      "cell_type": "code",
      "source": [
        "essay_sentences_clean[:5]"
      ],
      "execution_count": 0,
      "outputs": [
        {
          "output_type": "execute_result",
          "data": {
            "text/plain": [
              "['My opinion of the effect computers have on people is that people arent safe.',\n",
              " 'A lot of teens and kids on on their computers and go to yahoo + or my space to talk to their friends.',\n",
              " 'but sometimes teen talk to people they don\\x92t know that can hurt them and tell them something that makes them uncomfortible.',\n",
              " 'I like computers really I do and I know you like it too but sometimes you have to be careful when you surfing the web .',\n",
              " 'Another effect computers have on people is that people arnt healthy.']"
            ]
          },
          "metadata": {
            "tags": []
          },
          "execution_count": 43
        }
      ]
    },
    {
      "metadata": {
        "id": "M5oQYw7Vzflc",
        "colab_type": "code",
        "outputId": "415b4b21-7540-46fa-b954-c677ce8466d3",
        "colab": {
          "base_uri": "https://localhost:8080/",
          "height": 34
        }
      },
      "cell_type": "code",
      "source": [
        "len(essay_sentences_clean)"
      ],
      "execution_count": 0,
      "outputs": [
        {
          "output_type": "execute_result",
          "data": {
            "text/plain": [
              "8322"
            ]
          },
          "metadata": {
            "tags": []
          },
          "execution_count": 44
        }
      ]
    },
    {
      "metadata": {
        "id": "cQ2WWPg_2BxE",
        "colab_type": "code",
        "colab": {}
      },
      "cell_type": "code",
      "source": [
        "essay_df = pd.DataFrame(columns=[\"input\", \"continuation\", \"label\"])\n",
        "\n",
        "random_indices = []\n",
        "df_idx = 0\n",
        "\n",
        "while True:\n",
        "    if essay_df.shape[0] > 200:\n",
        "        break\n",
        "    index = random.randint(0, len(essay_sentences_clean) - 2)\n",
        "    if index in random_indices:\n",
        "        continue\n",
        "    random_indices.append(index)\n",
        "    input_text = essay_sentences_clean[index]\n",
        "    row1 = {\n",
        "        \"input\": input_text,\n",
        "        \"continuation\": essay_sentences_clean[index + 1],\n",
        "        \"label\": 0\n",
        "    }\n",
        "    essay_df.loc[df_idx] = row1\n",
        "    df_idx += 1\n",
        "    row2 = {\n",
        "        \"input\": input_text,\n",
        "        \"continuation\": get_output(model_name=\"Essay\", \n",
        "                                input_text = input_text,\n",
        "                                length = 50),\n",
        "        \"label\": 1\n",
        "    }\n",
        "    essay_df.loc[df_idx] = row2\n",
        "    df_idx += 1"
      ],
      "execution_count": 0,
      "outputs": []
    },
    {
      "metadata": {
        "id": "PG6mrFEe50C-",
        "colab_type": "code",
        "colab": {}
      },
      "cell_type": "code",
      "source": [
        "essay_df[\"continuation\"] = essay_df['continuation'].str.replace(\"\\n\", \"\")"
      ],
      "execution_count": 0,
      "outputs": []
    },
    {
      "metadata": {
        "id": "SKqvO4iz2kST",
        "colab_type": "code",
        "colab": {}
      },
      "cell_type": "code",
      "source": [
        "essay_df.to_csv(\"evaluation/essay_test.csv\", index=False)"
      ],
      "execution_count": 0,
      "outputs": []
    },
    {
      "metadata": {
        "id": "Gqi5F4P-5uHS",
        "colab_type": "code",
        "outputId": "d080eb45-ac65-451e-d50d-15a26ce69ba3",
        "colab": {
          "base_uri": "https://localhost:8080/",
          "height": 195
        }
      },
      "cell_type": "code",
      "source": [
        "essay_df.head()"
      ],
      "execution_count": 0,
      "outputs": [
        {
          "output_type": "execute_result",
          "data": {
            "text/html": [
              "<div>\n",
              "<style scoped>\n",
              "    .dataframe tbody tr th:only-of-type {\n",
              "        vertical-align: middle;\n",
              "    }\n",
              "\n",
              "    .dataframe tbody tr th {\n",
              "        vertical-align: top;\n",
              "    }\n",
              "\n",
              "    .dataframe thead th {\n",
              "        text-align: right;\n",
              "    }\n",
              "</style>\n",
              "<table border=\"1\" class=\"dataframe\">\n",
              "  <thead>\n",
              "    <tr style=\"text-align: right;\">\n",
              "      <th></th>\n",
              "      <th>input</th>\n",
              "      <th>continuation</th>\n",
              "      <th>label</th>\n",
              "    </tr>\n",
              "  </thead>\n",
              "  <tbody>\n",
              "    <tr>\n",
              "      <th>0</th>\n",
              "      <td>The obsticles that the builders had to face we...</td>\n",
              "      <td>If the wind blew the blimp to much it could ca...</td>\n",
              "      <td>0</td>\n",
              "    </tr>\n",
              "    <tr>\n",
              "      <th>1</th>\n",
              "      <td>The obsticles that the builders had to face we...</td>\n",
              "      <td>Most floors in single story buildings began wi...</td>\n",
              "      <td>1</td>\n",
              "    </tr>\n",
              "    <tr>\n",
              "      <th>2</th>\n",
              "      <td>A lot of teens and kids on on their computers ...</td>\n",
              "      <td>but sometimes teen talk to people they dont k...</td>\n",
              "      <td>0</td>\n",
              "    </tr>\n",
              "    <tr>\n",
              "      <th>3</th>\n",
              "      <td>A lot of teens and kids on on their computers ...</td>\n",
              "      <td>At first you shouldn't build a desktop applica...</td>\n",
              "      <td>1</td>\n",
              "    </tr>\n",
              "    <tr>\n",
              "      <th>4</th>\n",
              "      <td>Let's plant it right now. This shows that eve...</td>\n",
              "      <td>This means that no matter how beat-down or dis...</td>\n",
              "      <td>0</td>\n",
              "    </tr>\n",
              "  </tbody>\n",
              "</table>\n",
              "</div>"
            ],
            "text/plain": [
              "                                               input  \\\n",
              "0  The obsticles that the builders had to face we...   \n",
              "1  The obsticles that the builders had to face we...   \n",
              "2  A lot of teens and kids on on their computers ...   \n",
              "3  A lot of teens and kids on on their computers ...   \n",
              "4  Let's plant it right now. This shows that eve...   \n",
              "\n",
              "                                        continuation label  \n",
              "0  If the wind blew the blimp to much it could ca...     0  \n",
              "1  Most floors in single story buildings began wi...     1  \n",
              "2  but sometimes teen talk to people they dont k...     0  \n",
              "3  At first you shouldn't build a desktop applica...     1  \n",
              "4  This means that no matter how beat-down or dis...     0  "
            ]
          },
          "metadata": {
            "tags": []
          },
          "execution_count": 59
        }
      ]
    },
    {
      "metadata": {
        "id": "isZQNs_h4yBd",
        "colab_type": "code",
        "colab": {}
      },
      "cell_type": "code",
      "source": [
        "stemmer = WordNetLemmatizer()"
      ],
      "execution_count": 0,
      "outputs": []
    },
    {
      "metadata": {
        "id": "4k2Qv3Rw4zob",
        "colab_type": "code",
        "colab": {}
      },
      "cell_type": "code",
      "source": [
        "essay_df['clean_output'] = essay_df['continuation'].apply(lambda doc: clean_doc(doc, stemmer))"
      ],
      "execution_count": 0,
      "outputs": []
    },
    {
      "metadata": {
        "id": "lnvzV4X16kJJ",
        "colab_type": "code",
        "outputId": "faedc1a7-d46e-4ec1-fcdb-062f978c8220",
        "colab": {
          "base_uri": "https://localhost:8080/",
          "height": 195
        }
      },
      "cell_type": "code",
      "source": [
        "essay_df.head()"
      ],
      "execution_count": 0,
      "outputs": [
        {
          "output_type": "execute_result",
          "data": {
            "text/html": [
              "<div>\n",
              "<style scoped>\n",
              "    .dataframe tbody tr th:only-of-type {\n",
              "        vertical-align: middle;\n",
              "    }\n",
              "\n",
              "    .dataframe tbody tr th {\n",
              "        vertical-align: top;\n",
              "    }\n",
              "\n",
              "    .dataframe thead th {\n",
              "        text-align: right;\n",
              "    }\n",
              "</style>\n",
              "<table border=\"1\" class=\"dataframe\">\n",
              "  <thead>\n",
              "    <tr style=\"text-align: right;\">\n",
              "      <th></th>\n",
              "      <th>input</th>\n",
              "      <th>continuation</th>\n",
              "      <th>label</th>\n",
              "      <th>clean_output</th>\n",
              "    </tr>\n",
              "  </thead>\n",
              "  <tbody>\n",
              "    <tr>\n",
              "      <th>0</th>\n",
              "      <td>The obsticles that the builders had to face we...</td>\n",
              "      <td>If the wind blew the blimp to much it could ca...</td>\n",
              "      <td>0</td>\n",
              "      <td>if the wind blew the blimp to much it could ca...</td>\n",
              "    </tr>\n",
              "    <tr>\n",
              "      <th>1</th>\n",
              "      <td>The obsticles that the builders had to face we...</td>\n",
              "      <td>Most floors in single story buildings began wi...</td>\n",
              "      <td>1</td>\n",
              "      <td>most floor in single story building began with...</td>\n",
              "    </tr>\n",
              "    <tr>\n",
              "      <th>2</th>\n",
              "      <td>A lot of teens and kids on on their computers ...</td>\n",
              "      <td>but sometimes teen talk to people they dont k...</td>\n",
              "      <td>0</td>\n",
              "      <td>but sometimes teen talk to people they don t k...</td>\n",
              "    </tr>\n",
              "    <tr>\n",
              "      <th>3</th>\n",
              "      <td>A lot of teens and kids on on their computers ...</td>\n",
              "      <td>At first you shouldn't build a desktop applica...</td>\n",
              "      <td>1</td>\n",
              "      <td>at first you shouldn t build a desktop applica...</td>\n",
              "    </tr>\n",
              "    <tr>\n",
              "      <th>4</th>\n",
              "      <td>Let's plant it right now. This shows that eve...</td>\n",
              "      <td>This means that no matter how beat-down or dis...</td>\n",
              "      <td>0</td>\n",
              "      <td>this mean that no matter how beat down or disa...</td>\n",
              "    </tr>\n",
              "  </tbody>\n",
              "</table>\n",
              "</div>"
            ],
            "text/plain": [
              "                                               input  \\\n",
              "0  The obsticles that the builders had to face we...   \n",
              "1  The obsticles that the builders had to face we...   \n",
              "2  A lot of teens and kids on on their computers ...   \n",
              "3  A lot of teens and kids on on their computers ...   \n",
              "4  Let's plant it right now. This shows that eve...   \n",
              "\n",
              "                                        continuation label  \\\n",
              "0  If the wind blew the blimp to much it could ca...     0   \n",
              "1  Most floors in single story buildings began wi...     1   \n",
              "2  but sometimes teen talk to people they dont k...     0   \n",
              "3  At first you shouldn't build a desktop applica...     1   \n",
              "4  This means that no matter how beat-down or dis...     0   \n",
              "\n",
              "                                        clean_output  \n",
              "0  if the wind blew the blimp to much it could ca...  \n",
              "1  most floor in single story building began with...  \n",
              "2  but sometimes teen talk to people they don t k...  \n",
              "3  at first you shouldn t build a desktop applica...  \n",
              "4  this mean that no matter how beat down or disa...  "
            ]
          },
          "metadata": {
            "tags": []
          },
          "execution_count": 63
        }
      ]
    },
    {
      "metadata": {
        "id": "Q-kLLzm35BeF",
        "colab_type": "code",
        "colab": {}
      },
      "cell_type": "code",
      "source": [
        "X = tfidfconverter.fit_transform(list(essay_df[\"clean_output\"])).toarray()"
      ],
      "execution_count": 0,
      "outputs": []
    },
    {
      "metadata": {
        "id": "1-n1W5Jo5IWl",
        "colab_type": "code",
        "colab": {}
      },
      "cell_type": "code",
      "source": [
        "X_train, X_test, y_train, y_test = train_test_split(X, essay_df['label'].astype(int))"
      ],
      "execution_count": 0,
      "outputs": []
    },
    {
      "metadata": {
        "id": "6oRYvzdp5JdX",
        "colab_type": "code",
        "outputId": "12daac31-6509-402c-f520-4a16467cb3bd",
        "colab": {
          "base_uri": "https://localhost:8080/",
          "height": 138
        }
      },
      "cell_type": "code",
      "source": [
        "lr_clf = LogisticRegression()\n",
        "lr_clf.fit(X_train, y_train)"
      ],
      "execution_count": 0,
      "outputs": [
        {
          "output_type": "stream",
          "text": [
            "/usr/local/lib/python3.6/dist-packages/sklearn/linear_model/logistic.py:433: FutureWarning: Default solver will be changed to 'lbfgs' in 0.22. Specify a solver to silence this warning.\n",
            "  FutureWarning)\n"
          ],
          "name": "stderr"
        },
        {
          "output_type": "execute_result",
          "data": {
            "text/plain": [
              "LogisticRegression(C=1.0, class_weight=None, dual=False, fit_intercept=True,\n",
              "          intercept_scaling=1, max_iter=100, multi_class='warn',\n",
              "          n_jobs=None, penalty='l2', random_state=None, solver='warn',\n",
              "          tol=0.0001, verbose=0, warm_start=False)"
            ]
          },
          "metadata": {
            "tags": []
          },
          "execution_count": 67
        }
      ]
    },
    {
      "metadata": {
        "id": "VEUgwYIo5Ngg",
        "colab_type": "code",
        "colab": {}
      },
      "cell_type": "code",
      "source": [
        "predictions = lr_clf.predict(X_test)"
      ],
      "execution_count": 0,
      "outputs": []
    },
    {
      "metadata": {
        "id": "-Pfa7_HQ5Trf",
        "colab_type": "code",
        "outputId": "47599f37-da3c-4fd7-8321-b9a4157552a4",
        "colab": {
          "base_uri": "https://localhost:8080/",
          "height": 50
        }
      },
      "cell_type": "code",
      "source": [
        "print(\"Accuracy\", accuracy_score(y_test, predictions))\n",
        "print(\"F1\", f1_score(y_test, predictions))"
      ],
      "execution_count": 0,
      "outputs": [
        {
          "output_type": "stream",
          "text": [
            "Accuracy 0.6666666666666666\n",
            "F1 0.6382978723404256\n"
          ],
          "name": "stdout"
        }
      ]
    },
    {
      "metadata": {
        "id": "YJjUK0kZ5Wtl",
        "colab_type": "text"
      },
      "cell_type": "markdown",
      "source": [
        "### Calculating Perplexity"
      ]
    },
    {
      "metadata": {
        "id": "0JIs-Y_v6215",
        "colab_type": "text"
      },
      "cell_type": "markdown",
      "source": [
        "##### Essay"
      ]
    },
    {
      "metadata": {
        "id": "cBS7YpgI_X4p",
        "colab_type": "code",
        "colab": {}
      },
      "cell_type": "code",
      "source": [
        "from collections import defaultdict"
      ],
      "execution_count": 0,
      "outputs": []
    },
    {
      "metadata": {
        "id": "MTmxK3mX5YuD",
        "colab_type": "code",
        "colab": {}
      },
      "cell_type": "code",
      "source": [
        "essay_text = essays[\"essay\"].str.cat(sep = \" \")"
      ],
      "execution_count": 0,
      "outputs": []
    },
    {
      "metadata": {
        "id": "aztVBTlL7haM",
        "colab_type": "code",
        "colab": {}
      },
      "cell_type": "code",
      "source": [
        "essay_tokens = nltk.word_tokenize(essay_text)"
      ],
      "execution_count": 0,
      "outputs": []
    },
    {
      "metadata": {
        "id": "71PooqW2--Qu",
        "colab_type": "code",
        "colab": {}
      },
      "cell_type": "code",
      "source": [
        "def unigram(tokens):    \n",
        "    model = defaultdict(lambda: 0.01)\n",
        "    for f in tokens:\n",
        "        try:\n",
        "            model[f] += 1\n",
        "        except KeyError:\n",
        "            model [f] = 1\n",
        "            continue\n",
        "    N = float(sum(model.values()))\n",
        "    for word in model:\n",
        "        model[word] = model[word]/N\n",
        "    return model"
      ],
      "execution_count": 0,
      "outputs": []
    },
    {
      "metadata": {
        "id": "ZWTJl-x9_NrS",
        "colab_type": "code",
        "colab": {}
      },
      "cell_type": "code",
      "source": [
        "essay_unigram_model = unigram(essay_tokens)"
      ],
      "execution_count": 0,
      "outputs": []
    },
    {
      "metadata": {
        "id": "ZEXtWtZF_UZH",
        "colab_type": "code",
        "colab": {}
      },
      "cell_type": "code",
      "source": [
        "def calc_perplexity(testset, model):\n",
        "    perplexities = []\n",
        "    for i, sentence in enumerate(testset):\n",
        "        sentence = sentence.split()\n",
        "        perplexity = 1\n",
        "        N = 0\n",
        "        for word in sentence:\n",
        "            N += 1\n",
        "            perplexity = perplexity * (1/model[word])\n",
        "        try:\n",
        "            perplexity = pow(perplexity, 1/float(N)) \n",
        "        except:\n",
        "            continue\n",
        "        perplexities.append(perplexity)\n",
        "    return perplexities"
      ],
      "execution_count": 0,
      "outputs": []
    },
    {
      "metadata": {
        "id": "6ZnDhfF4Lax5",
        "colab_type": "code",
        "colab": {}
      },
      "cell_type": "code",
      "source": [
        ""
      ],
      "execution_count": 0,
      "outputs": []
    },
    {
      "metadata": {
        "id": "s6PV4jMm_uJh",
        "colab_type": "code",
        "colab": {}
      },
      "cell_type": "code",
      "source": [
        "testset_sentences = list(essay_df[essay_df[\"label\"] == 1][\"continuation\"].str.split(\"\\. \"))"
      ],
      "execution_count": 0,
      "outputs": []
    },
    {
      "metadata": {
        "id": "l6tmc9lTD8Xl",
        "colab_type": "code",
        "colab": {}
      },
      "cell_type": "code",
      "source": [
        "testset = []\n",
        "for l in testset_sentences:\n",
        "    testset.extend(l)"
      ],
      "execution_count": 0,
      "outputs": []
    },
    {
      "metadata": {
        "id": "35IMGY1yBv-O",
        "colab_type": "code",
        "colab": {}
      },
      "cell_type": "code",
      "source": [
        "essay_perplexities = calc_perplexity(testset, essay_unigram_model)"
      ],
      "execution_count": 0,
      "outputs": []
    },
    {
      "metadata": {
        "id": "i4P-moRN_2_U",
        "colab_type": "code",
        "colab": {}
      },
      "cell_type": "code",
      "source": [
        "import numpy as np"
      ],
      "execution_count": 0,
      "outputs": []
    },
    {
      "metadata": {
        "id": "NKmI26jSAhol",
        "colab_type": "code",
        "outputId": "0da1d85d-1f2c-46a9-e2a0-b81a5d9a7e91",
        "colab": {
          "base_uri": "https://localhost:8080/",
          "height": 34
        }
      },
      "cell_type": "code",
      "source": [
        "np.prod(np.reciprocal(essay_perplexities))"
      ],
      "execution_count": 0,
      "outputs": [
        {
          "output_type": "execute_result",
          "data": {
            "text/plain": [
              "0.0"
            ]
          },
          "metadata": {
            "tags": []
          },
          "execution_count": 125
        }
      ]
    },
    {
      "metadata": {
        "id": "1JYItQQTAF7l",
        "colab_type": "code",
        "outputId": "bf24a905-276a-4f23-bdb9-6681f4487679",
        "colab": {
          "base_uri": "https://localhost:8080/",
          "height": 34
        }
      },
      "cell_type": "code",
      "source": [
        "essay_perplexity"
      ],
      "execution_count": 0,
      "outputs": [
        {
          "output_type": "execute_result",
          "data": {
            "text/plain": [
              "1.0013860976076292"
            ]
          },
          "metadata": {
            "tags": []
          },
          "execution_count": 97
        }
      ]
    },
    {
      "metadata": {
        "id": "6n1iOLpnAHha",
        "colab_type": "code",
        "outputId": "b453962d-0d3e-4494-fa0d-f8992480ff99",
        "colab": {
          "base_uri": "https://localhost:8080/",
          "height": 34
        }
      },
      "cell_type": "code",
      "source": [
        "pow(2, -1 * np.sum(np.log2(essay_perplexities)) / len(essay_unigram_model))"
      ],
      "execution_count": 0,
      "outputs": [
        {
          "output_type": "execute_result",
          "data": {
            "text/plain": [
              "0.8791857019977695"
            ]
          },
          "metadata": {
            "tags": []
          },
          "execution_count": 134
        }
      ]
    },
    {
      "metadata": {
        "id": "PRExQTs_JbDm",
        "colab_type": "code",
        "outputId": "58df9401-39cf-438d-ebdf-1e17315a89e8",
        "colab": {
          "base_uri": "https://localhost:8080/",
          "height": 34
        }
      },
      "cell_type": "code",
      "source": [
        "pow(2, -1 * np.sum(np.log2(essay_perplexities)) / len(essay_unigram_model))"
      ],
      "execution_count": 0,
      "outputs": [
        {
          "output_type": "execute_result",
          "data": {
            "text/plain": [
              "0.8791857019977695"
            ]
          },
          "metadata": {
            "tags": []
          },
          "execution_count": 140
        }
      ]
    },
    {
      "metadata": {
        "id": "sgKc7IZrQJPS",
        "colab_type": "code",
        "outputId": "d7f4c4e7-95d6-4f17-e175-d064098709f5",
        "colab": {
          "base_uri": "https://localhost:8080/",
          "height": 34
        }
      },
      "cell_type": "code",
      "source": [
        "np.mean(essay_perplexities)"
      ],
      "execution_count": 0,
      "outputs": [
        {
          "output_type": "execute_result",
          "data": {
            "text/plain": [
              "606.3497527577097"
            ]
          },
          "metadata": {
            "tags": []
          },
          "execution_count": 148
        }
      ]
    },
    {
      "metadata": {
        "id": "PlcCvlixQfMA",
        "colab_type": "text"
      },
      "cell_type": "markdown",
      "source": [
        "##### ROC"
      ]
    },
    {
      "metadata": {
        "id": "Cpd7DeWyQcPr",
        "colab_type": "code",
        "colab": {}
      },
      "cell_type": "code",
      "source": [
        "corpus = \" \".join(open(\"evaluation/ShortStoriesTest.txt\").read().split(\"\\n\"))"
      ],
      "execution_count": 0,
      "outputs": []
    },
    {
      "metadata": {
        "id": "O-T55T2iRIHo",
        "colab_type": "code",
        "colab": {}
      },
      "cell_type": "code",
      "source": [
        "roc_tokens = nltk.word_tokenize(corpus)"
      ],
      "execution_count": 0,
      "outputs": []
    },
    {
      "metadata": {
        "id": "PT9H7m4YRdAc",
        "colab_type": "code",
        "colab": {}
      },
      "cell_type": "code",
      "source": [
        "roc_unigram_model = unigram(roc_tokens)"
      ],
      "execution_count": 0,
      "outputs": []
    },
    {
      "metadata": {
        "id": "sg0VDamBRwSz",
        "colab_type": "code",
        "colab": {}
      },
      "cell_type": "code",
      "source": [
        "roc_df = pd.read_csv(\"evaluation/roc_test.csv\")"
      ],
      "execution_count": 0,
      "outputs": []
    },
    {
      "metadata": {
        "id": "rTgOpSBXR4py",
        "colab_type": "code",
        "colab": {}
      },
      "cell_type": "code",
      "source": [
        "roc_sentences = list(roc_df[roc_df.label == 1][\"continuation\"].dropna().str.split(\"\\. \"))"
      ],
      "execution_count": 0,
      "outputs": []
    },
    {
      "metadata": {
        "id": "NjbJTSOcSjvx",
        "colab_type": "code",
        "colab": {}
      },
      "cell_type": "code",
      "source": [
        "testset = []"
      ],
      "execution_count": 0,
      "outputs": []
    },
    {
      "metadata": {
        "id": "POcP526VSlXP",
        "colab_type": "code",
        "colab": {}
      },
      "cell_type": "code",
      "source": [
        "for sentence in roc_sentences:\n",
        "#     print(sentence)\n",
        "    testset.extend(sentence)"
      ],
      "execution_count": 0,
      "outputs": []
    },
    {
      "metadata": {
        "id": "xhrL9NrSSqsD",
        "colab_type": "code",
        "outputId": "ad45ff6f-0c8a-4d63-dd2c-9a7e56a51c51",
        "colab": {
          "base_uri": "https://localhost:8080/",
          "height": 34
        }
      },
      "cell_type": "code",
      "source": [
        "np.mean(calc_perplexity(testset, roc_unigram_model))"
      ],
      "execution_count": 0,
      "outputs": [
        {
          "output_type": "execute_result",
          "data": {
            "text/plain": [
              "807.0305980382706"
            ]
          },
          "metadata": {
            "tags": []
          },
          "execution_count": 171
        }
      ]
    },
    {
      "metadata": {
        "id": "ZryaOuneTIu1",
        "colab_type": "text"
      },
      "cell_type": "markdown",
      "source": [
        "##### GOT"
      ]
    },
    {
      "metadata": {
        "id": "Ef19VzISTFg0",
        "colab_type": "code",
        "colab": {}
      },
      "cell_type": "code",
      "source": [
        "corpus = \" \".join(open(\"evaluation/got_validation.txt\").read().split(\"\\n\"))"
      ],
      "execution_count": 0,
      "outputs": []
    },
    {
      "metadata": {
        "id": "_Zfg6cY5TqXM",
        "colab_type": "code",
        "colab": {}
      },
      "cell_type": "code",
      "source": [
        "got_tokens = nltk.word_tokenize(corpus)"
      ],
      "execution_count": 0,
      "outputs": []
    },
    {
      "metadata": {
        "id": "xRKAePovUBJa",
        "colab_type": "code",
        "colab": {}
      },
      "cell_type": "code",
      "source": [
        "got_unigram_model = unigram(got_tokens)"
      ],
      "execution_count": 0,
      "outputs": []
    },
    {
      "metadata": {
        "id": "DLDtRPqdUDz6",
        "colab_type": "code",
        "colab": {}
      },
      "cell_type": "code",
      "source": [
        "got_df = pd.read_csv(\"evaluation/got_validation.csv\")"
      ],
      "execution_count": 0,
      "outputs": []
    },
    {
      "metadata": {
        "id": "ETkI7q_6UJvD",
        "colab_type": "code",
        "colab": {}
      },
      "cell_type": "code",
      "source": [
        "got_sentences = list(got_df[got_df.label == 1][\"continuation\"].dropna().str.split(\"\\. \"))"
      ],
      "execution_count": 0,
      "outputs": []
    },
    {
      "metadata": {
        "id": "bSyql3Y7UZn1",
        "colab_type": "code",
        "colab": {}
      },
      "cell_type": "code",
      "source": [
        "testset = []\n",
        "for sentence in got_sentences:\n",
        "    testset.extend(sentence)"
      ],
      "execution_count": 0,
      "outputs": []
    },
    {
      "metadata": {
        "id": "YXmQklYuUkJ3",
        "colab_type": "code",
        "outputId": "465c7e99-5525-4581-f948-5f1267a05025",
        "colab": {
          "base_uri": "https://localhost:8080/",
          "height": 34
        }
      },
      "cell_type": "code",
      "source": [
        "np.mean(calc_perplexity(testset, got_unigram_model))"
      ],
      "execution_count": 0,
      "outputs": [
        {
          "output_type": "execute_result",
          "data": {
            "text/plain": [
              "312.3814644394952"
            ]
          },
          "metadata": {
            "tags": []
          },
          "execution_count": 184
        }
      ]
    },
    {
      "metadata": {
        "id": "Y1XERF8cP3qF",
        "colab_type": "text"
      },
      "cell_type": "markdown",
      "source": [
        "### Cosine Similarity"
      ]
    },
    {
      "metadata": {
        "id": "gz1KTeTnQTu9",
        "colab_type": "code",
        "colab": {}
      },
      "cell_type": "code",
      "source": [
        "import pandas as pd\n",
        "import numpy as np"
      ],
      "execution_count": 0,
      "outputs": []
    },
    {
      "metadata": {
        "id": "kHtS4928RSfn",
        "colab_type": "code",
        "outputId": "462dab68-fe2f-4fa7-d5fa-7fad30251caa",
        "colab": {
          "base_uri": "https://localhost:8080/",
          "height": 50
        }
      },
      "cell_type": "code",
      "source": [
        "from spacy.lang.en.stop_words import STOP_WORDS\n",
        "import gensim, re\n",
        "import numpy as np\n",
        "from scipy.spatial.distance import cosine"
      ],
      "execution_count": 31,
      "outputs": [
        {
          "output_type": "stream",
          "text": [
            "/usr/local/lib/python3.6/dist-packages/smart_open/ssh.py:34: UserWarning: paramiko missing, opening SSH/SCP/SFTP paths will be disabled.  `pip install paramiko` to suppress\n",
            "  warnings.warn('paramiko missing, opening SSH/SCP/SFTP paths will be disabled.  `pip install paramiko` to suppress')\n"
          ],
          "name": "stderr"
        }
      ]
    },
    {
      "metadata": {
        "id": "dL6HCzH5RT3w",
        "colab_type": "code",
        "colab": {}
      },
      "cell_type": "code",
      "source": [
        "w2v = gensim.models.KeyedVectors.load_word2vec_format(\"models/GoogleNews-vectors-negative300-SLIM.bin\", binary=True)"
      ],
      "execution_count": 0,
      "outputs": []
    },
    {
      "metadata": {
        "id": "9cYf0YWmTbVQ",
        "colab_type": "code",
        "colab": {}
      },
      "cell_type": "code",
      "source": [
        "def clean(text):\n",
        "    text = text.lower()\n",
        "    text = text.replace(\"\\n\", \" \")\n",
        "    text = re.sub(r\"[\\W\\d]\", \" \", text)\n",
        "    text = re.sub(r\"\\s+\", \" \", text)\n",
        "    for word in STOP_WORDS:\n",
        "        text = text.replace(\" \" + word + \" \", \" \")\n",
        "    return text"
      ],
      "execution_count": 0,
      "outputs": []
    },
    {
      "metadata": {
        "id": "qNZykFLOTed5",
        "colab_type": "code",
        "colab": {}
      },
      "cell_type": "code",
      "source": [
        "def getAverageVector(text, w2v):\n",
        "    words = clean(text).split()\n",
        "    vectors = []\n",
        "    for word in words:\n",
        "        try:\n",
        "            vectors.append(w2v[word])\n",
        "        except:\n",
        "            continue\n",
        "    return np.mean(vectors, axis=0)"
      ],
      "execution_count": 0,
      "outputs": []
    },
    {
      "metadata": {
        "id": "fqlE_dXiTrHj",
        "colab_type": "code",
        "colab": {}
      },
      "cell_type": "code",
      "source": [
        "def getSimilarity(actual, generated, w2v=w2v):\n",
        "    v1 = getAverageVector(actual, w2v)\n",
        "    v2 = getAverageVector(generated, w2v)\n",
        "    return 1 - cosine(v1, v2)"
      ],
      "execution_count": 0,
      "outputs": []
    },
    {
      "metadata": {
        "id": "QAaM801PQBzX",
        "colab_type": "text"
      },
      "cell_type": "markdown",
      "source": [
        "##### ROC"
      ]
    },
    {
      "metadata": {
        "id": "_3mOfBURP2XZ",
        "colab_type": "code",
        "colab": {}
      },
      "cell_type": "code",
      "source": [
        "df_roc = pd.read_csv(\"evaluation/roc_test.csv\")"
      ],
      "execution_count": 0,
      "outputs": []
    },
    {
      "metadata": {
        "id": "Pcu4PuKbQaqV",
        "colab_type": "code",
        "outputId": "82ace383-a3bf-44c8-8981-01b78cb22869",
        "colab": {
          "base_uri": "https://localhost:8080/",
          "height": 195
        }
      },
      "cell_type": "code",
      "source": [
        "df_roc.head()"
      ],
      "execution_count": 0,
      "outputs": [
        {
          "output_type": "execute_result",
          "data": {
            "text/html": [
              "<div>\n",
              "<style scoped>\n",
              "    .dataframe tbody tr th:only-of-type {\n",
              "        vertical-align: middle;\n",
              "    }\n",
              "\n",
              "    .dataframe tbody tr th {\n",
              "        vertical-align: top;\n",
              "    }\n",
              "\n",
              "    .dataframe thead th {\n",
              "        text-align: right;\n",
              "    }\n",
              "</style>\n",
              "<table border=\"1\" class=\"dataframe\">\n",
              "  <thead>\n",
              "    <tr style=\"text-align: right;\">\n",
              "      <th></th>\n",
              "      <th>input</th>\n",
              "      <th>continuation</th>\n",
              "      <th>label</th>\n",
              "    </tr>\n",
              "  </thead>\n",
              "  <tbody>\n",
              "    <tr>\n",
              "      <th>0</th>\n",
              "      <td>Our manager introduced us to a new employee.</td>\n",
              "      <td>Since she was attractive, all of the guys were...</td>\n",
              "      <td>0</td>\n",
              "    </tr>\n",
              "    <tr>\n",
              "      <th>1</th>\n",
              "      <td>Our manager introduced us to a new employee.</td>\n",
              "      <td>The new employee was nice and young. I though...</td>\n",
              "      <td>1</td>\n",
              "    </tr>\n",
              "    <tr>\n",
              "      <th>2</th>\n",
              "      <td>Carl was tasked with finding his family's Chri...</td>\n",
              "      <td>He was fifteen and he felt very manly and impo...</td>\n",
              "      <td>0</td>\n",
              "    </tr>\n",
              "    <tr>\n",
              "      <th>3</th>\n",
              "      <td>Carl was tasked with finding his family's Chri...</td>\n",
              "      <td>He searched all over town for his dad. There,...</td>\n",
              "      <td>1</td>\n",
              "    </tr>\n",
              "    <tr>\n",
              "      <th>4</th>\n",
              "      <td>Bob was always upset about his looks.</td>\n",
              "      <td>So he saved up money to get plastic surgery. H...</td>\n",
              "      <td>0</td>\n",
              "    </tr>\n",
              "  </tbody>\n",
              "</table>\n",
              "</div>"
            ],
            "text/plain": [
              "                                               input  \\\n",
              "0       Our manager introduced us to a new employee.   \n",
              "1       Our manager introduced us to a new employee.   \n",
              "2  Carl was tasked with finding his family's Chri...   \n",
              "3  Carl was tasked with finding his family's Chri...   \n",
              "4              Bob was always upset about his looks.   \n",
              "\n",
              "                                        continuation  label  \n",
              "0  Since she was attractive, all of the guys were...      0  \n",
              "1   The new employee was nice and young. I though...      1  \n",
              "2  He was fifteen and he felt very manly and impo...      0  \n",
              "3   He searched all over town for his dad. There,...      1  \n",
              "4  So he saved up money to get plastic surgery. H...      0  "
            ]
          },
          "metadata": {
            "tags": []
          },
          "execution_count": 7
        }
      ]
    },
    {
      "metadata": {
        "id": "Aaso-3DbRZOt",
        "colab_type": "code",
        "colab": {}
      },
      "cell_type": "code",
      "source": [
        "comparative_df = pd.concat([df_roc[df_roc.label == 0].set_index('input'), df_roc[df_roc.label == 1].set_index('input')], axis = 1).reset_index()"
      ],
      "execution_count": 0,
      "outputs": []
    },
    {
      "metadata": {
        "id": "_qD_OmXKS3Hi",
        "colab_type": "code",
        "colab": {}
      },
      "cell_type": "code",
      "source": [
        "comparative_df.columns = [\"input\", \"actual\", \"label0\", \"generated\", \"label1\"]"
      ],
      "execution_count": 0,
      "outputs": []
    },
    {
      "metadata": {
        "id": "0hkK-TiVS_x8",
        "colab_type": "code",
        "colab": {}
      },
      "cell_type": "code",
      "source": [
        "comparative_df = comparative_df[[\"input\", \"actual\", \"generated\"]].dropna().copy()"
      ],
      "execution_count": 0,
      "outputs": []
    },
    {
      "metadata": {
        "id": "fhLziwTKTIFf",
        "colab_type": "code",
        "colab": {}
      },
      "cell_type": "code",
      "source": [
        "comparative_df[\"cosine_similarity\"] = np.vectorize(getSimilarity)(comparative_df[\"actual\"], comparative_df[\"generated\"])"
      ],
      "execution_count": 0,
      "outputs": []
    },
    {
      "metadata": {
        "id": "wuIcMUJuU8Ew",
        "colab_type": "code",
        "outputId": "7bf2eea7-164f-4a4b-aac7-9c4983d48234",
        "colab": {
          "base_uri": "https://localhost:8080/",
          "height": 279
        }
      },
      "cell_type": "code",
      "source": [
        "comparative_df.head()"
      ],
      "execution_count": 0,
      "outputs": [
        {
          "output_type": "execute_result",
          "data": {
            "text/html": [
              "<div>\n",
              "<style scoped>\n",
              "    .dataframe tbody tr th:only-of-type {\n",
              "        vertical-align: middle;\n",
              "    }\n",
              "\n",
              "    .dataframe tbody tr th {\n",
              "        vertical-align: top;\n",
              "    }\n",
              "\n",
              "    .dataframe thead th {\n",
              "        text-align: right;\n",
              "    }\n",
              "</style>\n",
              "<table border=\"1\" class=\"dataframe\">\n",
              "  <thead>\n",
              "    <tr style=\"text-align: right;\">\n",
              "      <th></th>\n",
              "      <th>input</th>\n",
              "      <th>actual</th>\n",
              "      <th>generated</th>\n",
              "      <th>cosine_similarity</th>\n",
              "    </tr>\n",
              "  </thead>\n",
              "  <tbody>\n",
              "    <tr>\n",
              "      <th>0</th>\n",
              "      <td>Our manager introduced us to a new employee.</td>\n",
              "      <td>Since she was attractive, all of the guys were...</td>\n",
              "      <td>The new employee was nice and young. I though...</td>\n",
              "      <td>0.649152</td>\n",
              "    </tr>\n",
              "    <tr>\n",
              "      <th>1</th>\n",
              "      <td>Carl was tasked with finding his family's Chri...</td>\n",
              "      <td>He was fifteen and he felt very manly and impo...</td>\n",
              "      <td>He searched all over town for his dad. There,...</td>\n",
              "      <td>0.724642</td>\n",
              "    </tr>\n",
              "    <tr>\n",
              "      <th>2</th>\n",
              "      <td>Bob was always upset about his looks.</td>\n",
              "      <td>So he saved up money to get plastic surgery. H...</td>\n",
              "      <td>When she nurses the Metro, he would always co...</td>\n",
              "      <td>0.302044</td>\n",
              "    </tr>\n",
              "    <tr>\n",
              "      <th>3</th>\n",
              "      <td>The man was not honest or ethical.</td>\n",
              "      <td>He would get people to invest in his business ...</td>\n",
              "      <td>He was just an evil man. A fact he cared very...</td>\n",
              "      <td>0.488777</td>\n",
              "    </tr>\n",
              "    <tr>\n",
              "      <th>4</th>\n",
              "      <td>Randy was a guard in a prison.</td>\n",
              "      <td>One day, he became distracted watching The Sim...</td>\n",
              "      <td>He watched as his fellow guards acted strange...</td>\n",
              "      <td>0.622700</td>\n",
              "    </tr>\n",
              "  </tbody>\n",
              "</table>\n",
              "</div>"
            ],
            "text/plain": [
              "                                               input  \\\n",
              "0       Our manager introduced us to a new employee.   \n",
              "1  Carl was tasked with finding his family's Chri...   \n",
              "2              Bob was always upset about his looks.   \n",
              "3                 The man was not honest or ethical.   \n",
              "4                     Randy was a guard in a prison.   \n",
              "\n",
              "                                              actual  \\\n",
              "0  Since she was attractive, all of the guys were...   \n",
              "1  He was fifteen and he felt very manly and impo...   \n",
              "2  So he saved up money to get plastic surgery. H...   \n",
              "3  He would get people to invest in his business ...   \n",
              "4  One day, he became distracted watching The Sim...   \n",
              "\n",
              "                                           generated  cosine_similarity  \n",
              "0   The new employee was nice and young. I though...           0.649152  \n",
              "1   He searched all over town for his dad. There,...           0.724642  \n",
              "2   When she nurses the Metro, he would always co...           0.302044  \n",
              "3   He was just an evil man. A fact he cared very...           0.488777  \n",
              "4   He watched as his fellow guards acted strange...           0.622700  "
            ]
          },
          "metadata": {
            "tags": []
          },
          "execution_count": 33
        }
      ]
    },
    {
      "metadata": {
        "id": "iVHFrsl4VSdK",
        "colab_type": "code",
        "outputId": "c26205e6-7851-4eae-e059-1371a213207d",
        "colab": {
          "base_uri": "https://localhost:8080/",
          "height": 34
        }
      },
      "cell_type": "code",
      "source": [
        "comparative_df[\"cosine_similarity\"].mean()"
      ],
      "execution_count": 0,
      "outputs": [
        {
          "output_type": "execute_result",
          "data": {
            "text/plain": [
              "0.5393762010700849"
            ]
          },
          "metadata": {
            "tags": []
          },
          "execution_count": 34
        }
      ]
    },
    {
      "metadata": {
        "id": "8DCzxMDNVZrc",
        "colab_type": "text"
      },
      "cell_type": "markdown",
      "source": [
        "##### Essays"
      ]
    },
    {
      "metadata": {
        "id": "GWHVBLwwVWkN",
        "colab_type": "code",
        "colab": {}
      },
      "cell_type": "code",
      "source": [
        "df_essay = pd.read_csv(\"evaluation/essay_test.csv\")"
      ],
      "execution_count": 0,
      "outputs": []
    },
    {
      "metadata": {
        "id": "5Ueyd5nUVedW",
        "colab_type": "code",
        "outputId": "99bfd308-3714-447f-e6dd-8e6fcec98f0e",
        "colab": {
          "base_uri": "https://localhost:8080/",
          "height": 195
        }
      },
      "cell_type": "code",
      "source": [
        "df_essay.head()"
      ],
      "execution_count": 0,
      "outputs": [
        {
          "output_type": "execute_result",
          "data": {
            "text/html": [
              "<div>\n",
              "<style scoped>\n",
              "    .dataframe tbody tr th:only-of-type {\n",
              "        vertical-align: middle;\n",
              "    }\n",
              "\n",
              "    .dataframe tbody tr th {\n",
              "        vertical-align: top;\n",
              "    }\n",
              "\n",
              "    .dataframe thead th {\n",
              "        text-align: right;\n",
              "    }\n",
              "</style>\n",
              "<table border=\"1\" class=\"dataframe\">\n",
              "  <thead>\n",
              "    <tr style=\"text-align: right;\">\n",
              "      <th></th>\n",
              "      <th>input</th>\n",
              "      <th>continuation</th>\n",
              "      <th>label</th>\n",
              "    </tr>\n",
              "  </thead>\n",
              "  <tbody>\n",
              "    <tr>\n",
              "      <th>0</th>\n",
              "      <td>The obsticles that the builders had to face we...</td>\n",
              "      <td>If the wind blew the blimp to much it could ca...</td>\n",
              "      <td>0</td>\n",
              "    </tr>\n",
              "    <tr>\n",
              "      <th>1</th>\n",
              "      <td>The obsticles that the builders had to face we...</td>\n",
              "      <td>Most floors in single story buildings began wi...</td>\n",
              "      <td>1</td>\n",
              "    </tr>\n",
              "    <tr>\n",
              "      <th>2</th>\n",
              "      <td>A lot of teens and kids on on their computers ...</td>\n",
              "      <td>but sometimes teen talk to people they dont k...</td>\n",
              "      <td>0</td>\n",
              "    </tr>\n",
              "    <tr>\n",
              "      <th>3</th>\n",
              "      <td>A lot of teens and kids on on their computers ...</td>\n",
              "      <td>At first you shouldn't build a desktop applica...</td>\n",
              "      <td>1</td>\n",
              "    </tr>\n",
              "    <tr>\n",
              "      <th>4</th>\n",
              "      <td>Let's plant it right now. This shows that eve...</td>\n",
              "      <td>This means that no matter how beat-down or dis...</td>\n",
              "      <td>0</td>\n",
              "    </tr>\n",
              "  </tbody>\n",
              "</table>\n",
              "</div>"
            ],
            "text/plain": [
              "                                               input  \\\n",
              "0  The obsticles that the builders had to face we...   \n",
              "1  The obsticles that the builders had to face we...   \n",
              "2  A lot of teens and kids on on their computers ...   \n",
              "3  A lot of teens and kids on on their computers ...   \n",
              "4  Let's plant it right now. This shows that eve...   \n",
              "\n",
              "                                        continuation  label  \n",
              "0  If the wind blew the blimp to much it could ca...      0  \n",
              "1  Most floors in single story buildings began wi...      1  \n",
              "2  but sometimes teen talk to people they dont k...      0  \n",
              "3  At first you shouldn't build a desktop applica...      1  \n",
              "4  This means that no matter how beat-down or dis...      0  "
            ]
          },
          "metadata": {
            "tags": []
          },
          "execution_count": 40
        }
      ]
    },
    {
      "metadata": {
        "id": "5PCQ1KfKVh9u",
        "colab_type": "code",
        "colab": {}
      },
      "cell_type": "code",
      "source": [
        "comparative_df = pd.concat([df_essay[df_essay.label == 0].set_index('input'), df_essay[df_essay.label == 1].set_index('input')], axis = 1).reset_index()"
      ],
      "execution_count": 0,
      "outputs": []
    },
    {
      "metadata": {
        "id": "BGD_8x5gVqZF",
        "colab_type": "code",
        "colab": {}
      },
      "cell_type": "code",
      "source": [
        "comparative_df.columns = [\"input\", \"actual\", \"label0\", \"generated\", \"label1\"]"
      ],
      "execution_count": 0,
      "outputs": []
    },
    {
      "metadata": {
        "id": "zIbN1dQfVwiM",
        "colab_type": "code",
        "colab": {}
      },
      "cell_type": "code",
      "source": [
        "comparative_df = comparative_df[[\"input\", \"actual\", \"generated\"]].dropna().copy()"
      ],
      "execution_count": 0,
      "outputs": []
    },
    {
      "metadata": {
        "id": "ZXQA5aOwVy7Z",
        "colab_type": "code",
        "colab": {}
      },
      "cell_type": "code",
      "source": [
        "comparative_df[\"cosine_similarity\"] = np.vectorize(getSimilarity)(comparative_df[\"actual\"], comparative_df[\"generated\"])"
      ],
      "execution_count": 0,
      "outputs": []
    },
    {
      "metadata": {
        "id": "aaSks45yV1dM",
        "colab_type": "code",
        "outputId": "b23c01d4-48bb-40a4-86b9-41296724ff10",
        "colab": {
          "base_uri": "https://localhost:8080/",
          "height": 279
        }
      },
      "cell_type": "code",
      "source": [
        "comparative_df.head()"
      ],
      "execution_count": 0,
      "outputs": [
        {
          "output_type": "execute_result",
          "data": {
            "text/html": [
              "<div>\n",
              "<style scoped>\n",
              "    .dataframe tbody tr th:only-of-type {\n",
              "        vertical-align: middle;\n",
              "    }\n",
              "\n",
              "    .dataframe tbody tr th {\n",
              "        vertical-align: top;\n",
              "    }\n",
              "\n",
              "    .dataframe thead th {\n",
              "        text-align: right;\n",
              "    }\n",
              "</style>\n",
              "<table border=\"1\" class=\"dataframe\">\n",
              "  <thead>\n",
              "    <tr style=\"text-align: right;\">\n",
              "      <th></th>\n",
              "      <th>input</th>\n",
              "      <th>actual</th>\n",
              "      <th>generated</th>\n",
              "      <th>cosine_similarity</th>\n",
              "    </tr>\n",
              "  </thead>\n",
              "  <tbody>\n",
              "    <tr>\n",
              "      <th>0</th>\n",
              "      <td>The obsticles that the builders had to face we...</td>\n",
              "      <td>If the wind blew the blimp to much it could ca...</td>\n",
              "      <td>Most floors in single story buildings began wi...</td>\n",
              "      <td>0.545437</td>\n",
              "    </tr>\n",
              "    <tr>\n",
              "      <th>1</th>\n",
              "      <td>A lot of teens and kids on on their computers ...</td>\n",
              "      <td>but sometimes teen talk to people they dont k...</td>\n",
              "      <td>At first you shouldn't build a desktop applica...</td>\n",
              "      <td>0.616358</td>\n",
              "    </tr>\n",
              "    <tr>\n",
              "      <th>2</th>\n",
              "      <td>Let's plant it right now. This shows that eve...</td>\n",
              "      <td>This means that no matter how beat-down or dis...</td>\n",
              "      <td>There are several reasons this could be.First...</td>\n",
              "      <td>0.714871</td>\n",
              "    </tr>\n",
              "    <tr>\n",
              "      <th>3</th>\n",
              "      <td>This show that she is resilight, because she d...</td>\n",
              "      <td>The failing of the last test did not ultimetel...</td>\n",
              "      <td>In fairness, she certainly has her raison d'et...</td>\n",
              "      <td>0.502626</td>\n",
              "    </tr>\n",
              "    <tr>\n",
              "      <th>4</th>\n",
              "      <td>A Welchs Grape juice factory made him despair...</td>\n",
              "      <td>There are many features in the setting of Do ...</td>\n",
              "      <td>It took weeks of research and countless meetin...</td>\n",
              "      <td>0.343065</td>\n",
              "    </tr>\n",
              "  </tbody>\n",
              "</table>\n",
              "</div>"
            ],
            "text/plain": [
              "                                               input  \\\n",
              "0  The obsticles that the builders had to face we...   \n",
              "1  A lot of teens and kids on on their computers ...   \n",
              "2  Let's plant it right now. This shows that eve...   \n",
              "3  This show that she is resilight, because she d...   \n",
              "4  A Welchs Grape juice factory made him despair...   \n",
              "\n",
              "                                              actual  \\\n",
              "0  If the wind blew the blimp to much it could ca...   \n",
              "1  but sometimes teen talk to people they dont k...   \n",
              "2  This means that no matter how beat-down or dis...   \n",
              "3  The failing of the last test did not ultimetel...   \n",
              "4  There are many features in the setting of Do ...   \n",
              "\n",
              "                                           generated  cosine_similarity  \n",
              "0  Most floors in single story buildings began wi...           0.545437  \n",
              "1  At first you shouldn't build a desktop applica...           0.616358  \n",
              "2   There are several reasons this could be.First...           0.714871  \n",
              "3  In fairness, she certainly has her raison d'et...           0.502626  \n",
              "4  It took weeks of research and countless meetin...           0.343065  "
            ]
          },
          "metadata": {
            "tags": []
          },
          "execution_count": 45
        }
      ]
    },
    {
      "metadata": {
        "id": "wDW8bemjV3ha",
        "colab_type": "code",
        "outputId": "2fdc12c9-9310-4c33-831f-389b87980ce2",
        "colab": {
          "base_uri": "https://localhost:8080/",
          "height": 34
        }
      },
      "cell_type": "code",
      "source": [
        "comparative_df[\"cosine_similarity\"].mean()"
      ],
      "execution_count": 0,
      "outputs": [
        {
          "output_type": "execute_result",
          "data": {
            "text/plain": [
              "0.47609058863455705"
            ]
          },
          "metadata": {
            "tags": []
          },
          "execution_count": 46
        }
      ]
    },
    {
      "metadata": {
        "id": "0xOhXaayWGyi",
        "colab_type": "text"
      },
      "cell_type": "markdown",
      "source": [
        "##### GOT"
      ]
    },
    {
      "metadata": {
        "id": "c4bcrUm7WsJK",
        "colab_type": "code",
        "colab": {}
      },
      "cell_type": "code",
      "source": [
        "import glob, re, gensim"
      ],
      "execution_count": 0,
      "outputs": []
    },
    {
      "metadata": {
        "id": "FHa9SyUJWIBI",
        "colab_type": "code",
        "colab": {}
      },
      "cell_type": "code",
      "source": [
        "book_filenames = sorted(glob.glob(\"../got/*.txt\"))"
      ],
      "execution_count": 0,
      "outputs": []
    },
    {
      "metadata": {
        "id": "YQOr9_0YWqJI",
        "colab_type": "code",
        "colab": {}
      },
      "cell_type": "code",
      "source": [
        "corpus = \"\"\n",
        "for file in book_filenames:\n",
        "    with open(file) as fp:\n",
        "        corpus += fp.read() + \" \""
      ],
      "execution_count": 0,
      "outputs": []
    },
    {
      "metadata": {
        "id": "Y0RQ9KOqXHhY",
        "colab_type": "code",
        "colab": {}
      },
      "cell_type": "code",
      "source": [
        "tokenizer = nltk.data.load('tokenizers/punkt/english.pickle')"
      ],
      "execution_count": 0,
      "outputs": []
    },
    {
      "metadata": {
        "id": "ZBvmMyUsXNQQ",
        "colab_type": "code",
        "colab": {}
      },
      "cell_type": "code",
      "source": [
        "raw_sentences = tokenizer.tokenize(corpus)"
      ],
      "execution_count": 0,
      "outputs": []
    },
    {
      "metadata": {
        "id": "yXcocevSXg3k",
        "colab_type": "code",
        "colab": {}
      },
      "cell_type": "code",
      "source": [
        "def sentence_to_wordlist(raw):\n",
        "    clean = re.sub(\"[^a-zA-Z]\",\" \", raw)\n",
        "    words = clean.split()\n",
        "    return words"
      ],
      "execution_count": 0,
      "outputs": []
    },
    {
      "metadata": {
        "id": "2wBy3WHSXvBW",
        "colab_type": "code",
        "colab": {}
      },
      "cell_type": "code",
      "source": [
        "sentences = []\n",
        "for raw_sentence in raw_sentences:\n",
        "    if len(raw_sentence) > 0:\n",
        "        sentences.append(sentence_to_wordlist(raw_sentence))"
      ],
      "execution_count": 0,
      "outputs": []
    },
    {
      "metadata": {
        "id": "_hHarOA_Xz5r",
        "colab_type": "code",
        "colab": {}
      },
      "cell_type": "code",
      "source": [
        "got_w2v = gensim.models.Word2Vec(sentences)"
      ],
      "execution_count": 0,
      "outputs": []
    },
    {
      "metadata": {
        "id": "NuEJ9TJzYeEh",
        "colab_type": "code",
        "colab": {}
      },
      "cell_type": "code",
      "source": [
        "df_got = pd.read_csv(\"evaluation/got_validation.csv\")"
      ],
      "execution_count": 0,
      "outputs": []
    },
    {
      "metadata": {
        "id": "5vV7XScaY72-",
        "colab_type": "code",
        "outputId": "42c42579-5b8c-47eb-d725-7521c9c263ab",
        "colab": {
          "base_uri": "https://localhost:8080/",
          "height": 195
        }
      },
      "cell_type": "code",
      "source": [
        "df_got.head()"
      ],
      "execution_count": 0,
      "outputs": [
        {
          "output_type": "execute_result",
          "data": {
            "text/html": [
              "<div>\n",
              "<style scoped>\n",
              "    .dataframe tbody tr th:only-of-type {\n",
              "        vertical-align: middle;\n",
              "    }\n",
              "\n",
              "    .dataframe tbody tr th {\n",
              "        vertical-align: top;\n",
              "    }\n",
              "\n",
              "    .dataframe thead th {\n",
              "        text-align: right;\n",
              "    }\n",
              "</style>\n",
              "<table border=\"1\" class=\"dataframe\">\n",
              "  <thead>\n",
              "    <tr style=\"text-align: right;\">\n",
              "      <th></th>\n",
              "      <th>input</th>\n",
              "      <th>continuation</th>\n",
              "      <th>label</th>\n",
              "    </tr>\n",
              "  </thead>\n",
              "  <tbody>\n",
              "    <tr>\n",
              "      <th>0</th>\n",
              "      <td>From a sword through his belly if you have you...</td>\n",
              "      <td>Stannis pressed his lips together.  \"Serve me ...</td>\n",
              "      <td>0</td>\n",
              "    </tr>\n",
              "    <tr>\n",
              "      <th>1</th>\n",
              "      <td>From a sword through his belly if you have you...</td>\n",
              "      <td>Neither were eating well enough unless he joi...</td>\n",
              "      <td>1</td>\n",
              "    </tr>\n",
              "    <tr>\n",
              "      <th>2</th>\n",
              "      <td>\" — you will avenge my death, and seat my daug...</td>\n",
              "      <td>Ser Justin put one hand on his sword hilt.  \"O...</td>\n",
              "      <td>0</td>\n",
              "    </tr>\n",
              "    <tr>\n",
              "      <th>3</th>\n",
              "      <td>\" — you will avenge my death, and seat my daug...</td>\n",
              "      <td>“Your lady mother has squandered the last thre...</td>\n",
              "      <td>1</td>\n",
              "    </tr>\n",
              "    <tr>\n",
              "      <th>4</th>\n",
              "      <td>\"They would.\"</td>\n",
              "      <td>\"We might question them more sharply... \"</td>\n",
              "      <td>0</td>\n",
              "    </tr>\n",
              "  </tbody>\n",
              "</table>\n",
              "</div>"
            ],
            "text/plain": [
              "                                               input  \\\n",
              "0  From a sword through his belly if you have you...   \n",
              "1  From a sword through his belly if you have you...   \n",
              "2  \" — you will avenge my death, and seat my daug...   \n",
              "3  \" — you will avenge my death, and seat my daug...   \n",
              "4                                      \"They would.\"   \n",
              "\n",
              "                                        continuation  label  \n",
              "0  Stannis pressed his lips together.  \"Serve me ...      0  \n",
              "1   Neither were eating well enough unless he joi...      1  \n",
              "2  Ser Justin put one hand on his sword hilt.  \"O...      0  \n",
              "3  “Your lady mother has squandered the last thre...      1  \n",
              "4          \"We might question them more sharply... \"      0  "
            ]
          },
          "metadata": {
            "tags": []
          },
          "execution_count": 75
        }
      ]
    },
    {
      "metadata": {
        "id": "-0ixOemAZM_w",
        "colab_type": "code",
        "colab": {}
      },
      "cell_type": "code",
      "source": [
        "comparative_df = pd.concat([df_got[df_got.label == 0].set_index('input'), df_got[df_got.label == 1].set_index('input')], axis = 1).reset_index()"
      ],
      "execution_count": 0,
      "outputs": []
    },
    {
      "metadata": {
        "id": "gO65VpxMZR96",
        "colab_type": "code",
        "colab": {}
      },
      "cell_type": "code",
      "source": [
        "comparative_df.columns = [\"input\", \"actual\", \"label0\", \"generated\", \"label1\"]"
      ],
      "execution_count": 0,
      "outputs": []
    },
    {
      "metadata": {
        "id": "8ymdgnWGZVtl",
        "colab_type": "code",
        "colab": {}
      },
      "cell_type": "code",
      "source": [
        "comparative_df = comparative_df[[\"input\", \"actual\", \"generated\"]].dropna().copy()"
      ],
      "execution_count": 0,
      "outputs": []
    },
    {
      "metadata": {
        "id": "EwY708fYZYgB",
        "colab_type": "code",
        "outputId": "8f680627-1560-4796-8ba1-5e63b8f845aa",
        "colab": {
          "base_uri": "https://localhost:8080/",
          "height": 138
        }
      },
      "cell_type": "code",
      "source": [
        "comparative_df[\"cosine_similarity\"] = np.vectorize(getSimilarity)(comparative_df[\"actual\"], comparative_df[\"generated\"], got_w2v)"
      ],
      "execution_count": 0,
      "outputs": [
        {
          "output_type": "stream",
          "text": [
            "/usr/local/lib/python3.6/dist-packages/ipykernel_launcher.py:6: DeprecationWarning: Call to deprecated `__getitem__` (Method will be removed in 4.0.0, use self.wv.__getitem__() instead).\n",
            "  \n",
            "/usr/local/lib/python3.6/dist-packages/numpy/core/fromnumeric.py:3118: RuntimeWarning: Mean of empty slice.\n",
            "  out=out, **kwargs)\n",
            "/usr/local/lib/python3.6/dist-packages/numpy/core/_methods.py:85: RuntimeWarning: invalid value encountered in double_scalars\n",
            "  ret = ret.dtype.type(ret / rcount)\n"
          ],
          "name": "stderr"
        }
      ]
    },
    {
      "metadata": {
        "id": "taeU0AVbZbsD",
        "colab_type": "code",
        "outputId": "5cc22ff1-5c62-4622-a835-542e908c4caa",
        "colab": {
          "base_uri": "https://localhost:8080/",
          "height": 279
        }
      },
      "cell_type": "code",
      "source": [
        "comparative_df.head()"
      ],
      "execution_count": 0,
      "outputs": [
        {
          "output_type": "execute_result",
          "data": {
            "text/html": [
              "<div>\n",
              "<style scoped>\n",
              "    .dataframe tbody tr th:only-of-type {\n",
              "        vertical-align: middle;\n",
              "    }\n",
              "\n",
              "    .dataframe tbody tr th {\n",
              "        vertical-align: top;\n",
              "    }\n",
              "\n",
              "    .dataframe thead th {\n",
              "        text-align: right;\n",
              "    }\n",
              "</style>\n",
              "<table border=\"1\" class=\"dataframe\">\n",
              "  <thead>\n",
              "    <tr style=\"text-align: right;\">\n",
              "      <th></th>\n",
              "      <th>input</th>\n",
              "      <th>actual</th>\n",
              "      <th>generated</th>\n",
              "      <th>baseline</th>\n",
              "      <th>cosine_similarity</th>\n",
              "    </tr>\n",
              "  </thead>\n",
              "  <tbody>\n",
              "    <tr>\n",
              "      <th>0</th>\n",
              "      <td>From a sword through his belly if you have you...</td>\n",
              "      <td>Stannis pressed his lips together.  \"Serve me ...</td>\n",
              "      <td>Neither were eating well enough unless he joi...</td>\n",
              "      <td>Tyrion walked into the tavern.</td>\n",
              "      <td>0.415075</td>\n",
              "    </tr>\n",
              "    <tr>\n",
              "      <th>1</th>\n",
              "      <td>\" — you will avenge my death, and seat my daug...</td>\n",
              "      <td>Ser Justin put one hand on his sword hilt.  \"O...</td>\n",
              "      <td>“Your lady mother has squandered the last thre...</td>\n",
              "      <td>Tyrion walked into the tavern.</td>\n",
              "      <td>0.666389</td>\n",
              "    </tr>\n",
              "    <tr>\n",
              "      <th>2</th>\n",
              "      <td>\"They would.\"</td>\n",
              "      <td>\"We might question them more sharply... \"</td>\n",
              "      <td>Ser Jorah Mormont grew bored. “Give me you thi...</td>\n",
              "      <td>Tyrion walked into the tavern.</td>\n",
              "      <td>0.626010</td>\n",
              "    </tr>\n",
              "    <tr>\n",
              "      <th>3</th>\n",
              "      <td>\"It was not a compliment.\"  Stannis gave Theon...</td>\n",
              "      <td>She stood.  \"The Braavosi ransomed my seven of...</td>\n",
              "      <td>The sunlight stained their green tunic over th...</td>\n",
              "      <td>Tyrion walked into the tavern.</td>\n",
              "      <td>0.323279</td>\n",
              "    </tr>\n",
              "    <tr>\n",
              "      <th>4</th>\n",
              "      <td>The memory left Theon writhing in his chains. ...</td>\n",
              "      <td>Then other bird said, \"Theon,\" clear as day, a...</td>\n",
              "      <td>�Whitewash, tree, tree, tree.”“A broth you won...</td>\n",
              "      <td>Tyrion walked into the tavern.</td>\n",
              "      <td>0.443098</td>\n",
              "    </tr>\n",
              "  </tbody>\n",
              "</table>\n",
              "</div>"
            ],
            "text/plain": [
              "                                               input  \\\n",
              "0  From a sword through his belly if you have you...   \n",
              "1  \" — you will avenge my death, and seat my daug...   \n",
              "2                                      \"They would.\"   \n",
              "3  \"It was not a compliment.\"  Stannis gave Theon...   \n",
              "4  The memory left Theon writhing in his chains. ...   \n",
              "\n",
              "                                              actual  \\\n",
              "0  Stannis pressed his lips together.  \"Serve me ...   \n",
              "1  Ser Justin put one hand on his sword hilt.  \"O...   \n",
              "2          \"We might question them more sharply... \"   \n",
              "3  She stood.  \"The Braavosi ransomed my seven of...   \n",
              "4  Then other bird said, \"Theon,\" clear as day, a...   \n",
              "\n",
              "                                           generated  \\\n",
              "0   Neither were eating well enough unless he joi...   \n",
              "1  “Your lady mother has squandered the last thre...   \n",
              "2  Ser Jorah Mormont grew bored. “Give me you thi...   \n",
              "3  The sunlight stained their green tunic over th...   \n",
              "4  �Whitewash, tree, tree, tree.”“A broth you won...   \n",
              "\n",
              "                         baseline  cosine_similarity  \n",
              "0  Tyrion walked into the tavern.           0.415075  \n",
              "1  Tyrion walked into the tavern.           0.666389  \n",
              "2  Tyrion walked into the tavern.           0.626010  \n",
              "3  Tyrion walked into the tavern.           0.323279  \n",
              "4  Tyrion walked into the tavern.           0.443098  "
            ]
          },
          "metadata": {
            "tags": []
          },
          "execution_count": 95
        }
      ]
    },
    {
      "metadata": {
        "id": "g3IuxtoSZkEJ",
        "colab_type": "code",
        "outputId": "d5eed21e-0848-416d-89c5-3758b5f00132",
        "colab": {
          "base_uri": "https://localhost:8080/",
          "height": 34
        }
      },
      "cell_type": "code",
      "source": [
        "comparative_df['cosine_similarity'].mean()"
      ],
      "execution_count": 0,
      "outputs": [
        {
          "output_type": "execute_result",
          "data": {
            "text/plain": [
              "0.47870406252567216"
            ]
          },
          "metadata": {
            "tags": []
          },
          "execution_count": 96
        }
      ]
    },
    {
      "metadata": {
        "id": "MzV6FeHY8HAN",
        "colab_type": "text"
      },
      "cell_type": "markdown",
      "source": [
        "### First Baseline"
      ]
    },
    {
      "metadata": {
        "id": "9ntTm-AK8fSP",
        "colab_type": "code",
        "colab": {}
      },
      "cell_type": "code",
      "source": [
        "baseline = \"The quick brown fox jumped over the lazy dog\""
      ],
      "execution_count": 0,
      "outputs": []
    },
    {
      "metadata": {
        "id": "woXXy7WF8STf",
        "colab_type": "text"
      },
      "cell_type": "markdown",
      "source": [
        "#### GOT"
      ]
    },
    {
      "metadata": {
        "id": "oQgyIg0i8EiZ",
        "colab_type": "code",
        "colab": {
          "base_uri": "https://localhost:8080/",
          "height": 195
        },
        "outputId": "7936fcfc-c2f6-47a6-a0c6-0c270504667e"
      },
      "cell_type": "code",
      "source": [
        "got_df.head()"
      ],
      "execution_count": 23,
      "outputs": [
        {
          "output_type": "execute_result",
          "data": {
            "text/html": [
              "<div>\n",
              "<style scoped>\n",
              "    .dataframe tbody tr th:only-of-type {\n",
              "        vertical-align: middle;\n",
              "    }\n",
              "\n",
              "    .dataframe tbody tr th {\n",
              "        vertical-align: top;\n",
              "    }\n",
              "\n",
              "    .dataframe thead th {\n",
              "        text-align: right;\n",
              "    }\n",
              "</style>\n",
              "<table border=\"1\" class=\"dataframe\">\n",
              "  <thead>\n",
              "    <tr style=\"text-align: right;\">\n",
              "      <th></th>\n",
              "      <th>input</th>\n",
              "      <th>continuation</th>\n",
              "      <th>label</th>\n",
              "      <th>pred</th>\n",
              "    </tr>\n",
              "  </thead>\n",
              "  <tbody>\n",
              "    <tr>\n",
              "      <th>0</th>\n",
              "      <td>From a sword through his belly if you have you...</td>\n",
              "      <td>Stannis pressed his lips together.  \"Serve me ...</td>\n",
              "      <td>0</td>\n",
              "      <td>1</td>\n",
              "    </tr>\n",
              "    <tr>\n",
              "      <th>1</th>\n",
              "      <td>From a sword through his belly if you have you...</td>\n",
              "      <td>Neither were eating well enough unless he joi...</td>\n",
              "      <td>1</td>\n",
              "      <td>1</td>\n",
              "    </tr>\n",
              "    <tr>\n",
              "      <th>2</th>\n",
              "      <td>\" — you will avenge my death, and seat my daug...</td>\n",
              "      <td>Ser Justin put one hand on his sword hilt.  \"O...</td>\n",
              "      <td>0</td>\n",
              "      <td>1</td>\n",
              "    </tr>\n",
              "    <tr>\n",
              "      <th>3</th>\n",
              "      <td>\" — you will avenge my death, and seat my daug...</td>\n",
              "      <td>“Your lady mother has squandered the last thre...</td>\n",
              "      <td>1</td>\n",
              "      <td>1</td>\n",
              "    </tr>\n",
              "    <tr>\n",
              "      <th>4</th>\n",
              "      <td>\"They would.\"</td>\n",
              "      <td>\"We might question them more sharply... \"</td>\n",
              "      <td>0</td>\n",
              "      <td>1</td>\n",
              "    </tr>\n",
              "  </tbody>\n",
              "</table>\n",
              "</div>"
            ],
            "text/plain": [
              "                                               input  \\\n",
              "0  From a sword through his belly if you have you...   \n",
              "1  From a sword through his belly if you have you...   \n",
              "2  \" — you will avenge my death, and seat my daug...   \n",
              "3  \" — you will avenge my death, and seat my daug...   \n",
              "4                                      \"They would.\"   \n",
              "\n",
              "                                        continuation  label  pred  \n",
              "0  Stannis pressed his lips together.  \"Serve me ...      0     1  \n",
              "1   Neither were eating well enough unless he joi...      1     1  \n",
              "2  Ser Justin put one hand on his sword hilt.  \"O...      0     1  \n",
              "3  “Your lady mother has squandered the last thre...      1     1  \n",
              "4          \"We might question them more sharply... \"      0     1  "
            ]
          },
          "metadata": {
            "tags": []
          },
          "execution_count": 23
        }
      ]
    },
    {
      "metadata": {
        "id": "5C4EXNBi8ska",
        "colab_type": "code",
        "colab": {}
      },
      "cell_type": "code",
      "source": [
        "comparative_df = pd.concat([got_df[got_df.label == 0].set_index('input'), got_df[got_df.label == 1].set_index('input')], axis = 1).reset_index()"
      ],
      "execution_count": 0,
      "outputs": []
    },
    {
      "metadata": {
        "id": "xQ7h3lpz85IH",
        "colab_type": "code",
        "colab": {}
      },
      "cell_type": "code",
      "source": [
        "comparative_df.columns = [\"input\", \"actual\", \"label0\", \"pred0\", \"generated\", \"label1\", \"pred1\"]"
      ],
      "execution_count": 0,
      "outputs": []
    },
    {
      "metadata": {
        "id": "dYxo0nDy9AEY",
        "colab_type": "code",
        "colab": {}
      },
      "cell_type": "code",
      "source": [
        "comparative_df = comparative_df[[\"input\", \"actual\", \"generated\"]].dropna().copy()"
      ],
      "execution_count": 0,
      "outputs": []
    },
    {
      "metadata": {
        "id": "dXFNCN4G9Mlj",
        "colab_type": "code",
        "colab": {}
      },
      "cell_type": "code",
      "source": [
        "comparative_df[\"baseline\"] = baseline"
      ],
      "execution_count": 0,
      "outputs": []
    },
    {
      "metadata": {
        "id": "NGQmjVwr-V4U",
        "colab_type": "text"
      },
      "cell_type": "markdown",
      "source": [
        "##### Cosine Similarity"
      ]
    },
    {
      "metadata": {
        "id": "UhS3cJWg9t-n",
        "colab_type": "code",
        "colab": {
          "base_uri": "https://localhost:8080/",
          "height": 138
        },
        "outputId": "ef698d42-31c9-4a60-aa14-004af7cfff86"
      },
      "cell_type": "code",
      "source": [
        "comparative_df[\"baseline_cosine_similarity\"] = np.vectorize(getSimilarity)(comparative_df[\"actual\"], comparative_df[\"baseline\"], got_w2v)"
      ],
      "execution_count": 51,
      "outputs": [
        {
          "output_type": "stream",
          "text": [
            "/usr/local/lib/python3.6/dist-packages/ipykernel_launcher.py:6: DeprecationWarning: Call to deprecated `__getitem__` (Method will be removed in 4.0.0, use self.wv.__getitem__() instead).\n",
            "  \n",
            "/usr/local/lib/python3.6/dist-packages/numpy/core/fromnumeric.py:3118: RuntimeWarning: Mean of empty slice.\n",
            "  out=out, **kwargs)\n",
            "/usr/local/lib/python3.6/dist-packages/numpy/core/_methods.py:85: RuntimeWarning: invalid value encountered in double_scalars\n",
            "  ret = ret.dtype.type(ret / rcount)\n"
          ],
          "name": "stderr"
        }
      ]
    },
    {
      "metadata": {
        "id": "2c66Oc0L-l-v",
        "colab_type": "code",
        "colab": {
          "base_uri": "https://localhost:8080/",
          "height": 34
        },
        "outputId": "a5dd19ca-78a1-4935-e4ce-351e2b5a8c83"
      },
      "cell_type": "code",
      "source": [
        "comparative_df[\"baseline_cosine_similarity\"].mean()"
      ],
      "execution_count": 52,
      "outputs": [
        {
          "output_type": "execute_result",
          "data": {
            "text/plain": [
              "0.27118041500392737"
            ]
          },
          "metadata": {
            "tags": []
          },
          "execution_count": 52
        }
      ]
    },
    {
      "metadata": {
        "id": "SrxWC76l-4zE",
        "colab_type": "text"
      },
      "cell_type": "markdown",
      "source": [
        "##### Perplexity"
      ]
    },
    {
      "metadata": {
        "id": "Vnh9yCIL-7bw",
        "colab_type": "code",
        "colab": {
          "base_uri": "https://localhost:8080/",
          "height": 34
        },
        "outputId": "86896673-c01d-43ef-ce1b-e492b0eb59a8"
      },
      "cell_type": "code",
      "source": [
        "calc_perplexity([baseline], got_unigram_model)"
      ],
      "execution_count": 68,
      "outputs": [
        {
          "output_type": "execute_result",
          "data": {
            "text/plain": [
              "[308.10781495358776]"
            ]
          },
          "metadata": {
            "tags": []
          },
          "execution_count": 68
        }
      ]
    },
    {
      "metadata": {
        "id": "hsOrfLUJ_ns0",
        "colab_type": "text"
      },
      "cell_type": "markdown",
      "source": [
        "##### Classification"
      ]
    },
    {
      "metadata": {
        "id": "s8zzGKloADuo",
        "colab_type": "code",
        "colab": {}
      },
      "cell_type": "code",
      "source": [
        "import random"
      ],
      "execution_count": 0,
      "outputs": []
    },
    {
      "metadata": {
        "id": "GSUKLHX9_qRI",
        "colab_type": "code",
        "colab": {}
      },
      "cell_type": "code",
      "source": [
        "got_df[\"pred\"] = [random.randint(0, 1) for i in got_df.index]"
      ],
      "execution_count": 0,
      "outputs": []
    },
    {
      "metadata": {
        "id": "jdbZr1TcAAr3",
        "colab_type": "code",
        "colab": {
          "base_uri": "https://localhost:8080/",
          "height": 34
        },
        "outputId": "7587961b-55b6-49a6-b0eb-5b1643bc91cc"
      },
      "cell_type": "code",
      "source": [
        "print(\"Accuracy: \", accuracy_score(got_df[\"label\"], got_df[\"pred\"]))"
      ],
      "execution_count": 74,
      "outputs": [
        {
          "output_type": "stream",
          "text": [
            "Accuracy:  0.5148514851485149\n"
          ],
          "name": "stdout"
        }
      ]
    },
    {
      "metadata": {
        "id": "zY4xVJATAOMe",
        "colab_type": "code",
        "colab": {
          "base_uri": "https://localhost:8080/",
          "height": 34
        },
        "outputId": "8f6bd399-f4d7-4bb4-d2a9-17c5bc81d0e4"
      },
      "cell_type": "code",
      "source": [
        "print(\"F1: \", f1_score(got_df[\"label\"], got_df[\"pred\"]))"
      ],
      "execution_count": 75,
      "outputs": [
        {
          "output_type": "stream",
          "text": [
            "F1:  0.5148514851485149\n"
          ],
          "name": "stdout"
        }
      ]
    },
    {
      "metadata": {
        "id": "s9fsN59EAXOF",
        "colab_type": "text"
      },
      "cell_type": "markdown",
      "source": [
        "#### ROC"
      ]
    },
    {
      "metadata": {
        "id": "JnwYXmtNARgZ",
        "colab_type": "code",
        "colab": {
          "base_uri": "https://localhost:8080/",
          "height": 195
        },
        "outputId": "9e34ec3f-49f6-4023-9ed5-b556ef51fbad"
      },
      "cell_type": "code",
      "source": [
        "roc_df.head()"
      ],
      "execution_count": 77,
      "outputs": [
        {
          "output_type": "execute_result",
          "data": {
            "text/html": [
              "<div>\n",
              "<style scoped>\n",
              "    .dataframe tbody tr th:only-of-type {\n",
              "        vertical-align: middle;\n",
              "    }\n",
              "\n",
              "    .dataframe tbody tr th {\n",
              "        vertical-align: top;\n",
              "    }\n",
              "\n",
              "    .dataframe thead th {\n",
              "        text-align: right;\n",
              "    }\n",
              "</style>\n",
              "<table border=\"1\" class=\"dataframe\">\n",
              "  <thead>\n",
              "    <tr style=\"text-align: right;\">\n",
              "      <th></th>\n",
              "      <th>input</th>\n",
              "      <th>continuation</th>\n",
              "      <th>label</th>\n",
              "    </tr>\n",
              "  </thead>\n",
              "  <tbody>\n",
              "    <tr>\n",
              "      <th>0</th>\n",
              "      <td>Our manager introduced us to a new employee.</td>\n",
              "      <td>Since she was attractive, all of the guys were...</td>\n",
              "      <td>0</td>\n",
              "    </tr>\n",
              "    <tr>\n",
              "      <th>1</th>\n",
              "      <td>Our manager introduced us to a new employee.</td>\n",
              "      <td>The new employee was nice and young. I though...</td>\n",
              "      <td>1</td>\n",
              "    </tr>\n",
              "    <tr>\n",
              "      <th>2</th>\n",
              "      <td>Carl was tasked with finding his family's Chri...</td>\n",
              "      <td>He was fifteen and he felt very manly and impo...</td>\n",
              "      <td>0</td>\n",
              "    </tr>\n",
              "    <tr>\n",
              "      <th>3</th>\n",
              "      <td>Carl was tasked with finding his family's Chri...</td>\n",
              "      <td>He searched all over town for his dad. There,...</td>\n",
              "      <td>1</td>\n",
              "    </tr>\n",
              "    <tr>\n",
              "      <th>4</th>\n",
              "      <td>Bob was always upset about his looks.</td>\n",
              "      <td>So he saved up money to get plastic surgery. H...</td>\n",
              "      <td>0</td>\n",
              "    </tr>\n",
              "  </tbody>\n",
              "</table>\n",
              "</div>"
            ],
            "text/plain": [
              "                                               input  \\\n",
              "0       Our manager introduced us to a new employee.   \n",
              "1       Our manager introduced us to a new employee.   \n",
              "2  Carl was tasked with finding his family's Chri...   \n",
              "3  Carl was tasked with finding his family's Chri...   \n",
              "4              Bob was always upset about his looks.   \n",
              "\n",
              "                                        continuation  label  \n",
              "0  Since she was attractive, all of the guys were...      0  \n",
              "1   The new employee was nice and young. I though...      1  \n",
              "2  He was fifteen and he felt very manly and impo...      0  \n",
              "3   He searched all over town for his dad. There,...      1  \n",
              "4  So he saved up money to get plastic surgery. H...      0  "
            ]
          },
          "metadata": {
            "tags": []
          },
          "execution_count": 77
        }
      ]
    },
    {
      "metadata": {
        "id": "NVQmz742AfX9",
        "colab_type": "code",
        "colab": {}
      },
      "cell_type": "code",
      "source": [
        "comparative_df = pd.concat([roc_df[roc_df.label == 0].set_index('input'), roc_df[roc_df.label == 1].set_index('input')], axis = 1).reset_index()"
      ],
      "execution_count": 0,
      "outputs": []
    },
    {
      "metadata": {
        "id": "Igp8woe9AmcZ",
        "colab_type": "code",
        "colab": {}
      },
      "cell_type": "code",
      "source": [
        "comparative_df.columns = [\"input\", \"actual\", \"label0\", \"generated\", \"label1\"]"
      ],
      "execution_count": 0,
      "outputs": []
    },
    {
      "metadata": {
        "id": "Aj_e6ssrAvPm",
        "colab_type": "code",
        "colab": {}
      },
      "cell_type": "code",
      "source": [
        "comparative_df = comparative_df[[\"input\", \"actual\", \"generated\"]].dropna().copy()"
      ],
      "execution_count": 0,
      "outputs": []
    },
    {
      "metadata": {
        "id": "p_YtqV1jA3ry",
        "colab_type": "code",
        "colab": {}
      },
      "cell_type": "code",
      "source": [
        "comparative_df[\"baseline\"] = baseline"
      ],
      "execution_count": 0,
      "outputs": []
    },
    {
      "metadata": {
        "id": "9qJHUtVxA6yq",
        "colab_type": "text"
      },
      "cell_type": "markdown",
      "source": [
        "##### Cosine Similarity"
      ]
    },
    {
      "metadata": {
        "id": "2beEWBFWA9Wt",
        "colab_type": "code",
        "colab": {}
      },
      "cell_type": "code",
      "source": [
        "comparative_df[\"baseline_cosine_similarity\"] = np.vectorize(getSimilarity)(comparative_df[\"actual\"], comparative_df[\"baseline\"])"
      ],
      "execution_count": 0,
      "outputs": []
    },
    {
      "metadata": {
        "id": "gYflcttsBDV4",
        "colab_type": "code",
        "colab": {
          "base_uri": "https://localhost:8080/",
          "height": 34
        },
        "outputId": "d924af7e-831f-4040-b86d-05fed22bacf4"
      },
      "cell_type": "code",
      "source": [
        "comparative_df[\"baseline_cosine_similarity\"].mean()"
      ],
      "execution_count": 85,
      "outputs": [
        {
          "output_type": "execute_result",
          "data": {
            "text/plain": [
              "0.4847811259785477"
            ]
          },
          "metadata": {
            "tags": []
          },
          "execution_count": 85
        }
      ]
    },
    {
      "metadata": {
        "id": "sYFW8MOVBJGW",
        "colab_type": "text"
      },
      "cell_type": "markdown",
      "source": [
        "##### Perplexity"
      ]
    },
    {
      "metadata": {
        "id": "2fZYxdP-BG5Y",
        "colab_type": "code",
        "colab": {
          "base_uri": "https://localhost:8080/",
          "height": 34
        },
        "outputId": "846471c7-52b2-4168-ac93-75ca99e54758"
      },
      "cell_type": "code",
      "source": [
        "calc_perplexity([baseline], roc_unigram_model)"
      ],
      "execution_count": 86,
      "outputs": [
        {
          "output_type": "execute_result",
          "data": {
            "text/plain": [
              "[2835.1219901488835]"
            ]
          },
          "metadata": {
            "tags": []
          },
          "execution_count": 86
        }
      ]
    },
    {
      "metadata": {
        "id": "ikP3cxASBSN2",
        "colab_type": "text"
      },
      "cell_type": "markdown",
      "source": [
        "##### Classification"
      ]
    },
    {
      "metadata": {
        "id": "MKPSVa-9BT7s",
        "colab_type": "code",
        "colab": {}
      },
      "cell_type": "code",
      "source": [
        "roc_df[\"pred\"] = [random.randint(0, 1) for i in roc_df.index]"
      ],
      "execution_count": 0,
      "outputs": []
    },
    {
      "metadata": {
        "id": "oJgn954DBZMu",
        "colab_type": "code",
        "colab": {
          "base_uri": "https://localhost:8080/",
          "height": 34
        },
        "outputId": "bb8640e9-a8a9-4cc2-a46f-07da88347a23"
      },
      "cell_type": "code",
      "source": [
        "print(\"Accuracy: \", accuracy_score(roc_df[\"label\"], roc_df[\"pred\"]))"
      ],
      "execution_count": 88,
      "outputs": [
        {
          "output_type": "stream",
          "text": [
            "Accuracy:  0.4306930693069307\n"
          ],
          "name": "stdout"
        }
      ]
    },
    {
      "metadata": {
        "id": "nuCmKfnwBeDG",
        "colab_type": "code",
        "colab": {
          "base_uri": "https://localhost:8080/",
          "height": 34
        },
        "outputId": "d3d93860-6f9a-424b-cdac-4911c858c02a"
      },
      "cell_type": "code",
      "source": [
        "print(\"F1: \", f1_score(roc_df[\"label\"], roc_df[\"pred\"]))"
      ],
      "execution_count": 89,
      "outputs": [
        {
          "output_type": "stream",
          "text": [
            "F1:  0.42786069651741293\n"
          ],
          "name": "stdout"
        }
      ]
    },
    {
      "metadata": {
        "id": "KUNdY-HIBkMs",
        "colab_type": "text"
      },
      "cell_type": "markdown",
      "source": [
        "#### Essay"
      ]
    },
    {
      "metadata": {
        "id": "X33BgRbRBqnw",
        "colab_type": "code",
        "colab": {
          "base_uri": "https://localhost:8080/",
          "height": 195
        },
        "outputId": "10a829ee-5271-4809-a264-009f67acd36f"
      },
      "cell_type": "code",
      "source": [
        "essay_df.head()"
      ],
      "execution_count": 90,
      "outputs": [
        {
          "output_type": "execute_result",
          "data": {
            "text/html": [
              "<div>\n",
              "<style scoped>\n",
              "    .dataframe tbody tr th:only-of-type {\n",
              "        vertical-align: middle;\n",
              "    }\n",
              "\n",
              "    .dataframe tbody tr th {\n",
              "        vertical-align: top;\n",
              "    }\n",
              "\n",
              "    .dataframe thead th {\n",
              "        text-align: right;\n",
              "    }\n",
              "</style>\n",
              "<table border=\"1\" class=\"dataframe\">\n",
              "  <thead>\n",
              "    <tr style=\"text-align: right;\">\n",
              "      <th></th>\n",
              "      <th>input</th>\n",
              "      <th>continuation</th>\n",
              "      <th>label</th>\n",
              "      <th>pred</th>\n",
              "    </tr>\n",
              "  </thead>\n",
              "  <tbody>\n",
              "    <tr>\n",
              "      <th>0</th>\n",
              "      <td>The obsticles that the builders had to face we...</td>\n",
              "      <td>If the wind blew the blimp to much it could ca...</td>\n",
              "      <td>0</td>\n",
              "      <td>1</td>\n",
              "    </tr>\n",
              "    <tr>\n",
              "      <th>1</th>\n",
              "      <td>The obsticles that the builders had to face we...</td>\n",
              "      <td>Most floors in single story buildings began wi...</td>\n",
              "      <td>1</td>\n",
              "      <td>1</td>\n",
              "    </tr>\n",
              "    <tr>\n",
              "      <th>2</th>\n",
              "      <td>A lot of teens and kids on on their computers ...</td>\n",
              "      <td>but sometimes teen talk to people they dont k...</td>\n",
              "      <td>0</td>\n",
              "      <td>1</td>\n",
              "    </tr>\n",
              "    <tr>\n",
              "      <th>3</th>\n",
              "      <td>A lot of teens and kids on on their computers ...</td>\n",
              "      <td>At first you shouldn't build a desktop applica...</td>\n",
              "      <td>1</td>\n",
              "      <td>1</td>\n",
              "    </tr>\n",
              "    <tr>\n",
              "      <th>4</th>\n",
              "      <td>Let's plant it right now. This shows that eve...</td>\n",
              "      <td>This means that no matter how beat-down or dis...</td>\n",
              "      <td>0</td>\n",
              "      <td>1</td>\n",
              "    </tr>\n",
              "  </tbody>\n",
              "</table>\n",
              "</div>"
            ],
            "text/plain": [
              "                                               input  \\\n",
              "0  The obsticles that the builders had to face we...   \n",
              "1  The obsticles that the builders had to face we...   \n",
              "2  A lot of teens and kids on on their computers ...   \n",
              "3  A lot of teens and kids on on their computers ...   \n",
              "4  Let's plant it right now. This shows that eve...   \n",
              "\n",
              "                                        continuation  label  pred  \n",
              "0  If the wind blew the blimp to much it could ca...      0     1  \n",
              "1  Most floors in single story buildings began wi...      1     1  \n",
              "2  but sometimes teen talk to people they dont k...      0     1  \n",
              "3  At first you shouldn't build a desktop applica...      1     1  \n",
              "4  This means that no matter how beat-down or dis...      0     1  "
            ]
          },
          "metadata": {
            "tags": []
          },
          "execution_count": 90
        }
      ]
    },
    {
      "metadata": {
        "id": "4HS_-scdBtpf",
        "colab_type": "code",
        "colab": {}
      },
      "cell_type": "code",
      "source": [
        "comparative_df = pd.concat([essay_df[essay_df.label == 0].set_index('input'), essay_df[essay_df.label == 1].set_index('input')], axis = 1).reset_index()"
      ],
      "execution_count": 0,
      "outputs": []
    },
    {
      "metadata": {
        "id": "jC_N25Y_B2ZP",
        "colab_type": "code",
        "colab": {}
      },
      "cell_type": "code",
      "source": [
        "comparative_df.columns = [\"input\", \"actual\", \"label0\", \"pred0\", \"generated\", \"label1\", \"pred1\"]"
      ],
      "execution_count": 0,
      "outputs": []
    },
    {
      "metadata": {
        "id": "j6Oan2T5B7e4",
        "colab_type": "code",
        "colab": {}
      },
      "cell_type": "code",
      "source": [
        "comparative_df = comparative_df[[\"input\", \"actual\", \"generated\"]].dropna().copy()"
      ],
      "execution_count": 0,
      "outputs": []
    },
    {
      "metadata": {
        "id": "kH5MxvVJB-eI",
        "colab_type": "code",
        "colab": {}
      },
      "cell_type": "code",
      "source": [
        "comparative_df[\"baseline\"] = baseline"
      ],
      "execution_count": 0,
      "outputs": []
    },
    {
      "metadata": {
        "id": "JCNkN5HICEjG",
        "colab_type": "text"
      },
      "cell_type": "markdown",
      "source": [
        "##### Cosine Similarity"
      ]
    },
    {
      "metadata": {
        "id": "LrbxvLJLCHgJ",
        "colab_type": "code",
        "colab": {}
      },
      "cell_type": "code",
      "source": [
        "comparative_df[\"baseline_cosine_similarity\"] = np.vectorize(getSimilarity)(comparative_df[\"actual\"], comparative_df[\"baseline\"])"
      ],
      "execution_count": 0,
      "outputs": []
    },
    {
      "metadata": {
        "id": "HkCfX0F-CNR2",
        "colab_type": "code",
        "colab": {
          "base_uri": "https://localhost:8080/",
          "height": 34
        },
        "outputId": "20c63637-2833-4de0-a300-a1964cca8acd"
      },
      "cell_type": "code",
      "source": [
        "comparative_df[\"baseline_cosine_similarity\"].mean()"
      ],
      "execution_count": 96,
      "outputs": [
        {
          "output_type": "execute_result",
          "data": {
            "text/plain": [
              "0.3989821539656951"
            ]
          },
          "metadata": {
            "tags": []
          },
          "execution_count": 96
        }
      ]
    },
    {
      "metadata": {
        "id": "kf55WhFaCUBb",
        "colab_type": "text"
      },
      "cell_type": "markdown",
      "source": [
        "##### Perplexity"
      ]
    },
    {
      "metadata": {
        "id": "xyHQnqUSCWBb",
        "colab_type": "code",
        "colab": {
          "base_uri": "https://localhost:8080/",
          "height": 34
        },
        "outputId": "c7efbe09-1f7e-4077-f69b-1a8f541d644f"
      },
      "cell_type": "code",
      "source": [
        "calc_perplexity([baseline], essay_unigram_model)"
      ],
      "execution_count": 97,
      "outputs": [
        {
          "output_type": "execute_result",
          "data": {
            "text/plain": [
              "[2605.53710835149]"
            ]
          },
          "metadata": {
            "tags": []
          },
          "execution_count": 97
        }
      ]
    },
    {
      "metadata": {
        "id": "gFMLtCq1Cfps",
        "colab_type": "text"
      },
      "cell_type": "markdown",
      "source": [
        "##### Classification"
      ]
    },
    {
      "metadata": {
        "id": "llRUQIG3Ch57",
        "colab_type": "code",
        "colab": {}
      },
      "cell_type": "code",
      "source": [
        "essay_df[\"pred\"] = [random.randint(0, 1) for i in essay_df.index]"
      ],
      "execution_count": 0,
      "outputs": []
    },
    {
      "metadata": {
        "id": "gswfvmqPCn06",
        "colab_type": "code",
        "colab": {
          "base_uri": "https://localhost:8080/",
          "height": 34
        },
        "outputId": "2c0550c5-a44e-4fcf-f5ac-1d7331008092"
      },
      "cell_type": "code",
      "source": [
        "print(\"Accuracy: \", accuracy_score(essay_df[\"label\"], essay_df[\"pred\"]))"
      ],
      "execution_count": 99,
      "outputs": [
        {
          "output_type": "stream",
          "text": [
            "Accuracy:  0.4900990099009901\n"
          ],
          "name": "stdout"
        }
      ]
    },
    {
      "metadata": {
        "id": "lY6OwnvhCsgp",
        "colab_type": "code",
        "colab": {
          "base_uri": "https://localhost:8080/",
          "height": 34
        },
        "outputId": "2a35f96a-58c5-4725-a0fc-42c1ba6853c2"
      },
      "cell_type": "code",
      "source": [
        "print(\"F1: \", f1_score(essay_df[\"label\"], essay_df[\"pred\"]))"
      ],
      "execution_count": 100,
      "outputs": [
        {
          "output_type": "stream",
          "text": [
            "F1:  0.5024154589371981\n"
          ],
          "name": "stdout"
        }
      ]
    },
    {
      "metadata": {
        "id": "qI_X6foOeyq7",
        "colab_type": "text"
      },
      "cell_type": "markdown",
      "source": [
        "### Second Baseline"
      ]
    },
    {
      "metadata": {
        "id": "3xIh8A0Ke3lG",
        "colab_type": "code",
        "colab": {}
      },
      "cell_type": "code",
      "source": [
        "got_baseline = \"Neither were eating well enough unless he joined in their merry custom.\"\n",
        "roc_baseline = \"The new employee was nice and young.\"\n",
        "essay_baseline = \"Most floors in single story buildings began with a series of blocks bolted to the floor.\""
      ],
      "execution_count": 0,
      "outputs": []
    },
    {
      "metadata": {
        "id": "q9RdcOYXZord",
        "colab_type": "text"
      },
      "cell_type": "markdown",
      "source": [
        "#### Baseline Cosine Similarity"
      ]
    },
    {
      "metadata": {
        "id": "pFlLL386aIP1",
        "colab_type": "text"
      },
      "cell_type": "markdown",
      "source": [
        "##### GOT"
      ]
    },
    {
      "metadata": {
        "id": "HFhIqSJTaKMc",
        "colab_type": "code",
        "outputId": "3c8a6969-f32b-43b0-dd5e-3740b4acc4a5",
        "colab": {
          "base_uri": "https://localhost:8080/",
          "height": 195
        }
      },
      "cell_type": "code",
      "source": [
        "df_got.head()"
      ],
      "execution_count": 0,
      "outputs": [
        {
          "output_type": "execute_result",
          "data": {
            "text/html": [
              "<div>\n",
              "<style scoped>\n",
              "    .dataframe tbody tr th:only-of-type {\n",
              "        vertical-align: middle;\n",
              "    }\n",
              "\n",
              "    .dataframe tbody tr th {\n",
              "        vertical-align: top;\n",
              "    }\n",
              "\n",
              "    .dataframe thead th {\n",
              "        text-align: right;\n",
              "    }\n",
              "</style>\n",
              "<table border=\"1\" class=\"dataframe\">\n",
              "  <thead>\n",
              "    <tr style=\"text-align: right;\">\n",
              "      <th></th>\n",
              "      <th>input</th>\n",
              "      <th>continuation</th>\n",
              "      <th>label</th>\n",
              "    </tr>\n",
              "  </thead>\n",
              "  <tbody>\n",
              "    <tr>\n",
              "      <th>0</th>\n",
              "      <td>From a sword through his belly if you have you...</td>\n",
              "      <td>Stannis pressed his lips together.  \"Serve me ...</td>\n",
              "      <td>0</td>\n",
              "    </tr>\n",
              "    <tr>\n",
              "      <th>1</th>\n",
              "      <td>From a sword through his belly if you have you...</td>\n",
              "      <td>Neither were eating well enough unless he joi...</td>\n",
              "      <td>1</td>\n",
              "    </tr>\n",
              "    <tr>\n",
              "      <th>2</th>\n",
              "      <td>\" — you will avenge my death, and seat my daug...</td>\n",
              "      <td>Ser Justin put one hand on his sword hilt.  \"O...</td>\n",
              "      <td>0</td>\n",
              "    </tr>\n",
              "    <tr>\n",
              "      <th>3</th>\n",
              "      <td>\" — you will avenge my death, and seat my daug...</td>\n",
              "      <td>“Your lady mother has squandered the last thre...</td>\n",
              "      <td>1</td>\n",
              "    </tr>\n",
              "    <tr>\n",
              "      <th>4</th>\n",
              "      <td>\"They would.\"</td>\n",
              "      <td>\"We might question them more sharply... \"</td>\n",
              "      <td>0</td>\n",
              "    </tr>\n",
              "  </tbody>\n",
              "</table>\n",
              "</div>"
            ],
            "text/plain": [
              "                                               input  \\\n",
              "0  From a sword through his belly if you have you...   \n",
              "1  From a sword through his belly if you have you...   \n",
              "2  \" — you will avenge my death, and seat my daug...   \n",
              "3  \" — you will avenge my death, and seat my daug...   \n",
              "4                                      \"They would.\"   \n",
              "\n",
              "                                        continuation  label  \n",
              "0  Stannis pressed his lips together.  \"Serve me ...      0  \n",
              "1   Neither were eating well enough unless he joi...      1  \n",
              "2  Ser Justin put one hand on his sword hilt.  \"O...      0  \n",
              "3  “Your lady mother has squandered the last thre...      1  \n",
              "4          \"We might question them more sharply... \"      0  "
            ]
          },
          "metadata": {
            "tags": []
          },
          "execution_count": 85
        }
      ]
    },
    {
      "metadata": {
        "id": "WYJvGH28fIMd",
        "colab_type": "code",
        "colab": {}
      },
      "cell_type": "code",
      "source": [
        "comparative_df = pd.concat([df_got[df_got.label == 0].set_index('input'), df_got[df_got.label == 1].set_index('input')], axis = 1).reset_index()"
      ],
      "execution_count": 0,
      "outputs": []
    },
    {
      "metadata": {
        "id": "3iPAnnfXfNHF",
        "colab_type": "code",
        "colab": {}
      },
      "cell_type": "code",
      "source": [
        "comparative_df.columns = [\"input\", \"actual\", \"label0\", \"generated\", \"label1\"]"
      ],
      "execution_count": 0,
      "outputs": []
    },
    {
      "metadata": {
        "id": "JE6p7MF6fNE4",
        "colab_type": "code",
        "colab": {}
      },
      "cell_type": "code",
      "source": [
        "comparative_df = comparative_df[[\"input\", \"actual\", \"generated\"]].dropna().copy()"
      ],
      "execution_count": 0,
      "outputs": []
    },
    {
      "metadata": {
        "id": "CVcYUhe2aQ3K",
        "colab_type": "code",
        "colab": {}
      },
      "cell_type": "code",
      "source": [
        "comparative_df[\"baseline\"] = got_baseline"
      ],
      "execution_count": 0,
      "outputs": []
    },
    {
      "metadata": {
        "id": "DDCwTySVaRFX",
        "colab_type": "code",
        "colab": {}
      },
      "cell_type": "code",
      "source": [
        "comparative_df[\"baseline_cosine_similarity\"] = np.vectorize(getSimilarity)(comparative_df[\"actual\"], comparative_df[\"baseline\"], got_w2v)"
      ],
      "execution_count": 0,
      "outputs": []
    },
    {
      "metadata": {
        "id": "6PI02QmoaRDW",
        "colab_type": "code",
        "outputId": "7ff6aa3b-0cf8-4c1d-815d-bb472fcb3609",
        "colab": {
          "base_uri": "https://localhost:8080/",
          "height": 34
        }
      },
      "cell_type": "code",
      "source": [
        "comparative_df['baseline_cosine_similarity'].mean()"
      ],
      "execution_count": 0,
      "outputs": [
        {
          "output_type": "execute_result",
          "data": {
            "text/plain": [
              "0.3343758965381468"
            ]
          },
          "metadata": {
            "tags": []
          },
          "execution_count": 133
        }
      ]
    },
    {
      "metadata": {
        "id": "O6cn3lRLZ5T3",
        "colab_type": "text"
      },
      "cell_type": "markdown",
      "source": [
        "##### ROC"
      ]
    },
    {
      "metadata": {
        "id": "WngbFTIbZqOh",
        "colab_type": "code",
        "outputId": "ab9c815d-e6a3-4a40-fad1-0ac73682294b",
        "colab": {
          "base_uri": "https://localhost:8080/",
          "height": 195
        }
      },
      "cell_type": "code",
      "source": [
        "df_roc.head()"
      ],
      "execution_count": 0,
      "outputs": [
        {
          "output_type": "execute_result",
          "data": {
            "text/html": [
              "<div>\n",
              "<style scoped>\n",
              "    .dataframe tbody tr th:only-of-type {\n",
              "        vertical-align: middle;\n",
              "    }\n",
              "\n",
              "    .dataframe tbody tr th {\n",
              "        vertical-align: top;\n",
              "    }\n",
              "\n",
              "    .dataframe thead th {\n",
              "        text-align: right;\n",
              "    }\n",
              "</style>\n",
              "<table border=\"1\" class=\"dataframe\">\n",
              "  <thead>\n",
              "    <tr style=\"text-align: right;\">\n",
              "      <th></th>\n",
              "      <th>input</th>\n",
              "      <th>continuation</th>\n",
              "      <th>label</th>\n",
              "    </tr>\n",
              "  </thead>\n",
              "  <tbody>\n",
              "    <tr>\n",
              "      <th>0</th>\n",
              "      <td>Our manager introduced us to a new employee.</td>\n",
              "      <td>Since she was attractive, all of the guys were...</td>\n",
              "      <td>0</td>\n",
              "    </tr>\n",
              "    <tr>\n",
              "      <th>1</th>\n",
              "      <td>Our manager introduced us to a new employee.</td>\n",
              "      <td>The new employee was nice and young. I though...</td>\n",
              "      <td>1</td>\n",
              "    </tr>\n",
              "    <tr>\n",
              "      <th>2</th>\n",
              "      <td>Carl was tasked with finding his family's Chri...</td>\n",
              "      <td>He was fifteen and he felt very manly and impo...</td>\n",
              "      <td>0</td>\n",
              "    </tr>\n",
              "    <tr>\n",
              "      <th>3</th>\n",
              "      <td>Carl was tasked with finding his family's Chri...</td>\n",
              "      <td>He searched all over town for his dad. There,...</td>\n",
              "      <td>1</td>\n",
              "    </tr>\n",
              "    <tr>\n",
              "      <th>4</th>\n",
              "      <td>Bob was always upset about his looks.</td>\n",
              "      <td>So he saved up money to get plastic surgery. H...</td>\n",
              "      <td>0</td>\n",
              "    </tr>\n",
              "  </tbody>\n",
              "</table>\n",
              "</div>"
            ],
            "text/plain": [
              "                                               input  \\\n",
              "0       Our manager introduced us to a new employee.   \n",
              "1       Our manager introduced us to a new employee.   \n",
              "2  Carl was tasked with finding his family's Chri...   \n",
              "3  Carl was tasked with finding his family's Chri...   \n",
              "4              Bob was always upset about his looks.   \n",
              "\n",
              "                                        continuation  label  \n",
              "0  Since she was attractive, all of the guys were...      0  \n",
              "1   The new employee was nice and young. I though...      1  \n",
              "2  He was fifteen and he felt very manly and impo...      0  \n",
              "3   He searched all over town for his dad. There,...      1  \n",
              "4  So he saved up money to get plastic surgery. H...      0  "
            ]
          },
          "metadata": {
            "tags": []
          },
          "execution_count": 134
        }
      ]
    },
    {
      "metadata": {
        "id": "MHxlRC3_aC8g",
        "colab_type": "code",
        "colab": {}
      },
      "cell_type": "code",
      "source": [
        "comparative_df = pd.concat([df_roc[df_roc.label == 0].set_index('input'), df_roc[df_roc.label == 1].set_index('input')], axis = 1).reset_index()"
      ],
      "execution_count": 0,
      "outputs": []
    },
    {
      "metadata": {
        "id": "HchXlnsxclgo",
        "colab_type": "code",
        "colab": {}
      },
      "cell_type": "code",
      "source": [
        "comparative_df.columns = [\"input\", \"actual\", \"label0\", \"generated\", \"label1\"]"
      ],
      "execution_count": 0,
      "outputs": []
    },
    {
      "metadata": {
        "id": "wJCUr2yOculQ",
        "colab_type": "code",
        "colab": {}
      },
      "cell_type": "code",
      "source": [
        "comparative_df = comparative_df[[\"input\", \"actual\", \"generated\"]].dropna().copy()"
      ],
      "execution_count": 0,
      "outputs": []
    },
    {
      "metadata": {
        "id": "gJi7i8BRc4Za",
        "colab_type": "code",
        "colab": {}
      },
      "cell_type": "code",
      "source": [
        "comparative_df[\"baseline\"] = roc_baseline"
      ],
      "execution_count": 0,
      "outputs": []
    },
    {
      "metadata": {
        "id": "mFDrqo2Uczi4",
        "colab_type": "code",
        "colab": {}
      },
      "cell_type": "code",
      "source": [
        "comparative_df[\"baseline_cosine_similarity\"] = np.vectorize(getSimilarity)(comparative_df[\"actual\"], comparative_df[\"baseline\"])"
      ],
      "execution_count": 0,
      "outputs": []
    },
    {
      "metadata": {
        "id": "owe5USCxdKqN",
        "colab_type": "code",
        "outputId": "6bfbfaa8-a281-4aa3-99aa-9aba14488fb6",
        "colab": {
          "base_uri": "https://localhost:8080/",
          "height": 34
        }
      },
      "cell_type": "code",
      "source": [
        "comparative_df[\"baseline_cosine_similarity\"].mean()"
      ],
      "execution_count": 0,
      "outputs": [
        {
          "output_type": "execute_result",
          "data": {
            "text/plain": [
              "0.4653388394080863"
            ]
          },
          "metadata": {
            "tags": []
          },
          "execution_count": 140
        }
      ]
    },
    {
      "metadata": {
        "id": "vNWLG_2Tdai4",
        "colab_type": "text"
      },
      "cell_type": "markdown",
      "source": [
        "##### Essays"
      ]
    },
    {
      "metadata": {
        "id": "iuV9BZeodN82",
        "colab_type": "code",
        "outputId": "a1b80f41-3178-4642-9878-eccff457466a",
        "colab": {
          "base_uri": "https://localhost:8080/",
          "height": 195
        }
      },
      "cell_type": "code",
      "source": [
        "df_essay.head()"
      ],
      "execution_count": 0,
      "outputs": [
        {
          "output_type": "execute_result",
          "data": {
            "text/html": [
              "<div>\n",
              "<style scoped>\n",
              "    .dataframe tbody tr th:only-of-type {\n",
              "        vertical-align: middle;\n",
              "    }\n",
              "\n",
              "    .dataframe tbody tr th {\n",
              "        vertical-align: top;\n",
              "    }\n",
              "\n",
              "    .dataframe thead th {\n",
              "        text-align: right;\n",
              "    }\n",
              "</style>\n",
              "<table border=\"1\" class=\"dataframe\">\n",
              "  <thead>\n",
              "    <tr style=\"text-align: right;\">\n",
              "      <th></th>\n",
              "      <th>input</th>\n",
              "      <th>continuation</th>\n",
              "      <th>label</th>\n",
              "    </tr>\n",
              "  </thead>\n",
              "  <tbody>\n",
              "    <tr>\n",
              "      <th>0</th>\n",
              "      <td>The obsticles that the builders had to face we...</td>\n",
              "      <td>If the wind blew the blimp to much it could ca...</td>\n",
              "      <td>0</td>\n",
              "    </tr>\n",
              "    <tr>\n",
              "      <th>1</th>\n",
              "      <td>The obsticles that the builders had to face we...</td>\n",
              "      <td>Most floors in single story buildings began wi...</td>\n",
              "      <td>1</td>\n",
              "    </tr>\n",
              "    <tr>\n",
              "      <th>2</th>\n",
              "      <td>A lot of teens and kids on on their computers ...</td>\n",
              "      <td>but sometimes teen talk to people they dont k...</td>\n",
              "      <td>0</td>\n",
              "    </tr>\n",
              "    <tr>\n",
              "      <th>3</th>\n",
              "      <td>A lot of teens and kids on on their computers ...</td>\n",
              "      <td>At first you shouldn't build a desktop applica...</td>\n",
              "      <td>1</td>\n",
              "    </tr>\n",
              "    <tr>\n",
              "      <th>4</th>\n",
              "      <td>Let's plant it right now. This shows that eve...</td>\n",
              "      <td>This means that no matter how beat-down or dis...</td>\n",
              "      <td>0</td>\n",
              "    </tr>\n",
              "  </tbody>\n",
              "</table>\n",
              "</div>"
            ],
            "text/plain": [
              "                                               input  \\\n",
              "0  The obsticles that the builders had to face we...   \n",
              "1  The obsticles that the builders had to face we...   \n",
              "2  A lot of teens and kids on on their computers ...   \n",
              "3  A lot of teens and kids on on their computers ...   \n",
              "4  Let's plant it right now. This shows that eve...   \n",
              "\n",
              "                                        continuation  label  \n",
              "0  If the wind blew the blimp to much it could ca...      0  \n",
              "1  Most floors in single story buildings began wi...      1  \n",
              "2  but sometimes teen talk to people they dont k...      0  \n",
              "3  At first you shouldn't build a desktop applica...      1  \n",
              "4  This means that no matter how beat-down or dis...      0  "
            ]
          },
          "metadata": {
            "tags": []
          },
          "execution_count": 141
        }
      ]
    },
    {
      "metadata": {
        "id": "jwahoklZdiiW",
        "colab_type": "code",
        "colab": {}
      },
      "cell_type": "code",
      "source": [
        "comparative_df = pd.concat([df_essay[df_essay.label == 0].set_index('input'), df_essay[df_essay.label == 1].set_index('input')], axis = 1).reset_index()"
      ],
      "execution_count": 0,
      "outputs": []
    },
    {
      "metadata": {
        "id": "yniTh_FIdq7n",
        "colab_type": "code",
        "colab": {}
      },
      "cell_type": "code",
      "source": [
        "comparative_df.columns = [\"input\", \"actual\", \"label0\", \"generated\", \"label1\"]"
      ],
      "execution_count": 0,
      "outputs": []
    },
    {
      "metadata": {
        "id": "KXVgmvDUdsua",
        "colab_type": "code",
        "colab": {}
      },
      "cell_type": "code",
      "source": [
        "comparative_df = comparative_df[[\"input\", \"actual\", \"generated\"]].dropna().copy()"
      ],
      "execution_count": 0,
      "outputs": []
    },
    {
      "metadata": {
        "id": "LRj9wbEZdvCf",
        "colab_type": "code",
        "colab": {}
      },
      "cell_type": "code",
      "source": [
        "comparative_df[\"baseline\"] = essay_baseline"
      ],
      "execution_count": 0,
      "outputs": []
    },
    {
      "metadata": {
        "id": "mAx2yNujeI3P",
        "colab_type": "code",
        "colab": {}
      },
      "cell_type": "code",
      "source": [
        "comparative_df[\"baseline_cosine_similarity\"] = np.vectorize(getSimilarity)(comparative_df[\"actual\"], comparative_df[\"baseline\"])"
      ],
      "execution_count": 0,
      "outputs": []
    },
    {
      "metadata": {
        "id": "CHO15lrzeM0f",
        "colab_type": "code",
        "outputId": "f5d00976-50de-4c43-cf38-ebc295e1031a",
        "colab": {
          "base_uri": "https://localhost:8080/",
          "height": 34
        }
      },
      "cell_type": "code",
      "source": [
        "comparative_df[\"baseline_cosine_similarity\"].mean()"
      ],
      "execution_count": 0,
      "outputs": [
        {
          "output_type": "execute_result",
          "data": {
            "text/plain": [
              "0.3526170787834885"
            ]
          },
          "metadata": {
            "tags": []
          },
          "execution_count": 147
        }
      ]
    },
    {
      "metadata": {
        "id": "DTshIIXjeUga",
        "colab_type": "text"
      },
      "cell_type": "markdown",
      "source": [
        "#### Baseline Perplexity"
      ]
    },
    {
      "metadata": {
        "id": "OZDKyuAbgnsT",
        "colab_type": "text"
      },
      "cell_type": "markdown",
      "source": [
        "##### GOT"
      ]
    },
    {
      "metadata": {
        "id": "ty7LbXwQeXVp",
        "colab_type": "code",
        "outputId": "9d30d839-413e-481a-e62f-e01dc756abaa",
        "colab": {
          "base_uri": "https://localhost:8080/",
          "height": 34
        }
      },
      "cell_type": "code",
      "source": [
        "calc_perplexity([got_baseline], got_unigram_model)"
      ],
      "execution_count": 0,
      "outputs": [
        {
          "output_type": "execute_result",
          "data": {
            "text/plain": [
              "[378.3495565381178]"
            ]
          },
          "metadata": {
            "tags": []
          },
          "execution_count": 169
        }
      ]
    },
    {
      "metadata": {
        "id": "DbaNh2iFg6K3",
        "colab_type": "text"
      },
      "cell_type": "markdown",
      "source": [
        "##### Essay"
      ]
    },
    {
      "metadata": {
        "id": "8Cil9l6Eg5CB",
        "colab_type": "code",
        "outputId": "951f61e1-4564-4872-d93d-cc8f633e0934",
        "colab": {
          "base_uri": "https://localhost:8080/",
          "height": 34
        }
      },
      "cell_type": "code",
      "source": [
        "calc_perplexity([essay_baseline], essay_unigram_model)"
      ],
      "execution_count": 0,
      "outputs": [
        {
          "output_type": "execute_result",
          "data": {
            "text/plain": [
              "[1389.9412225225656]"
            ]
          },
          "metadata": {
            "tags": []
          },
          "execution_count": 170
        }
      ]
    },
    {
      "metadata": {
        "id": "wz5Ap2Z6g_s9",
        "colab_type": "text"
      },
      "cell_type": "markdown",
      "source": [
        "##### ROC"
      ]
    },
    {
      "metadata": {
        "id": "lU_ksfLegwsZ",
        "colab_type": "code",
        "outputId": "438e3d8f-bad6-4398-9ca3-55b1e166da24",
        "colab": {
          "base_uri": "https://localhost:8080/",
          "height": 34
        }
      },
      "cell_type": "code",
      "source": [
        "calc_perplexity([roc_baseline], roc_unigram_model)"
      ],
      "execution_count": 0,
      "outputs": [
        {
          "output_type": "execute_result",
          "data": {
            "text/plain": [
              "[376.9086160395709]"
            ]
          },
          "metadata": {
            "tags": []
          },
          "execution_count": 171
        }
      ]
    },
    {
      "metadata": {
        "id": "K200n6Q46SPP",
        "colab_type": "text"
      },
      "cell_type": "markdown",
      "source": [
        "#### Baseline Classification"
      ]
    },
    {
      "metadata": {
        "id": "VigpeQEw6iKJ",
        "colab_type": "code",
        "colab": {}
      },
      "cell_type": "code",
      "source": [
        "import pandas as pd\n",
        "from sklearn.metrics import accuracy_score, f1_score"
      ],
      "execution_count": 0,
      "outputs": []
    },
    {
      "metadata": {
        "id": "ZqVIeHv66X1u",
        "colab_type": "text"
      },
      "cell_type": "markdown",
      "source": [
        "##### GOT"
      ]
    },
    {
      "metadata": {
        "id": "xxLpHzPc6WVW",
        "colab_type": "code",
        "colab": {}
      },
      "cell_type": "code",
      "source": [
        "got_df = pd.read_csv(\"evaluation/got_validation.csv\")"
      ],
      "execution_count": 0,
      "outputs": []
    },
    {
      "metadata": {
        "id": "SELkO0vr6fQq",
        "colab_type": "code",
        "colab": {}
      },
      "cell_type": "code",
      "source": [
        "# Predict all as machine generated\n",
        "got_df[\"pred\"] = 1"
      ],
      "execution_count": 0,
      "outputs": []
    },
    {
      "metadata": {
        "id": "QZQXLxHw7Fnz",
        "colab_type": "code",
        "colab": {
          "base_uri": "https://localhost:8080/",
          "height": 54
        },
        "outputId": "51e2929e-ee08-4322-e402-aa6f966df78b"
      },
      "cell_type": "code",
      "source": [
        "print(\"Accuracy: \", accuracy_score(got_df[\"label\"], got_df[\"pred\"]))"
      ],
      "execution_count": 11,
      "outputs": [
        {
          "output_type": "stream",
          "text": [
            "Accuracy:  0.5\n"
          ],
          "name": "stdout"
        }
      ]
    },
    {
      "metadata": {
        "id": "mGvXzIEn7Yes",
        "colab_type": "code",
        "colab": {
          "base_uri": "https://localhost:8080/",
          "height": 54
        },
        "outputId": "5c90f2a7-03db-4668-90c5-ec3755579b47"
      },
      "cell_type": "code",
      "source": [
        "print(\"F1: \", f1_score(got_df[\"label\"], got_df[\"pred\"]))"
      ],
      "execution_count": 12,
      "outputs": [
        {
          "output_type": "stream",
          "text": [
            "F1:  0.6666666666666666\n"
          ],
          "name": "stdout"
        }
      ]
    },
    {
      "metadata": {
        "id": "BWfQgPYB7gY2",
        "colab_type": "text"
      },
      "cell_type": "markdown",
      "source": [
        "##### ROC"
      ]
    },
    {
      "metadata": {
        "id": "bD8XpQGw7bQ-",
        "colab_type": "code",
        "colab": {}
      },
      "cell_type": "code",
      "source": [
        "roc_df = pd.read_csv(\"evaluation/roc_test.csv\")"
      ],
      "execution_count": 0,
      "outputs": []
    },
    {
      "metadata": {
        "id": "0mwKLgtP7pf6",
        "colab_type": "code",
        "colab": {}
      },
      "cell_type": "code",
      "source": [
        "roc_df[\"pred\"] = 1"
      ],
      "execution_count": 0,
      "outputs": []
    },
    {
      "metadata": {
        "id": "3EL-KEyF7ryP",
        "colab_type": "code",
        "colab": {
          "base_uri": "https://localhost:8080/",
          "height": 54
        },
        "outputId": "c2eab53d-32c0-499d-8749-89bc89b31444"
      },
      "cell_type": "code",
      "source": [
        "print(\"Accuracy: \", accuracy_score(roc_df[\"label\"], roc_df[\"pred\"]))"
      ],
      "execution_count": 15,
      "outputs": [
        {
          "output_type": "stream",
          "text": [
            "Accuracy:  0.5\n"
          ],
          "name": "stdout"
        }
      ]
    },
    {
      "metadata": {
        "id": "5D-2roGs7vDv",
        "colab_type": "code",
        "colab": {
          "base_uri": "https://localhost:8080/",
          "height": 54
        },
        "outputId": "7b1ac874-e5b5-4754-9d1a-4dd1934b44f2"
      },
      "cell_type": "code",
      "source": [
        "print(\"F1: \", f1_score(roc_df[\"label\"], roc_df[\"pred\"]))"
      ],
      "execution_count": 16,
      "outputs": [
        {
          "output_type": "stream",
          "text": [
            "F1:  0.6666666666666666\n"
          ],
          "name": "stdout"
        }
      ]
    },
    {
      "metadata": {
        "id": "yQFHgmOH71D5",
        "colab_type": "text"
      },
      "cell_type": "markdown",
      "source": [
        "##### Essay"
      ]
    },
    {
      "metadata": {
        "id": "MfeR0hWS7yvH",
        "colab_type": "code",
        "colab": {}
      },
      "cell_type": "code",
      "source": [
        "essay_df = pd.read_csv(\"evaluation/essay_test.csv\")"
      ],
      "execution_count": 0,
      "outputs": []
    },
    {
      "metadata": {
        "id": "RXLk8O4W76-m",
        "colab_type": "code",
        "colab": {}
      },
      "cell_type": "code",
      "source": [
        "essay_df[\"pred\"] = 1"
      ],
      "execution_count": 0,
      "outputs": []
    },
    {
      "metadata": {
        "id": "f54LCQZu7-OS",
        "colab_type": "code",
        "colab": {
          "base_uri": "https://localhost:8080/",
          "height": 54
        },
        "outputId": "19329772-cafb-4d05-9029-cc6b30737898"
      },
      "cell_type": "code",
      "source": [
        "print(\"Accuracy: \", accuracy_score(essay_df[\"label\"], essay_df[\"pred\"]))"
      ],
      "execution_count": 19,
      "outputs": [
        {
          "output_type": "stream",
          "text": [
            "Accuracy:  0.5\n"
          ],
          "name": "stdout"
        }
      ]
    },
    {
      "metadata": {
        "id": "AOLo6K8r8B1u",
        "colab_type": "code",
        "colab": {
          "base_uri": "https://localhost:8080/",
          "height": 54
        },
        "outputId": "e113fa7f-1db5-4ddb-dc32-1e0b098e0c07"
      },
      "cell_type": "code",
      "source": [
        "print(\"F1: \", f1_score(essay_df[\"label\"], essay_df[\"pred\"]))"
      ],
      "execution_count": 20,
      "outputs": [
        {
          "output_type": "stream",
          "text": [
            "F1:  0.6666666666666666\n"
          ],
          "name": "stdout"
        }
      ]
    }
  ]
}